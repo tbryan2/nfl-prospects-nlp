{
 "cells": [
  {
   "cell_type": "code",
   "execution_count": null,
   "metadata": {},
   "outputs": [],
   "source": [
    "# Install dependencies\n",
    "!pip install transformers\n",
    "!pip install torch"
   ]
  },
  {
   "cell_type": "code",
   "execution_count": null,
   "metadata": {},
   "outputs": [],
   "source": [
    "# Import dependencies\n",
    "import torch\n",
    "from transformers import BertTokenizer, BertModel\n",
    "from transformers import pipeline"
   ]
  },
  {
   "cell_type": "code",
   "execution_count": null,
   "metadata": {},
   "outputs": [],
   "source": [
    "# Check if a GPU is available\n",
    "torch.cuda.is_available()"
   ]
  },
  {
   "attachments": {},
   "cell_type": "markdown",
   "metadata": {},
   "source": [
    "saving progress from original notebook here if necessary"
   ]
  },
  {
   "cell_type": "code",
   "execution_count": null,
   "metadata": {},
   "outputs": [],
   "source": [
    "# Create a pipeline to analyze sentiment of player bios with a max length of 512 tokens\n",
    "nlp = pipeline('sentiment-analysis',\n",
    "               model='siebert/sentiment-roberta-large-english', max_length=512)\n",
    "\n",
    "# Create a new column in the DataFrame to hold the sentiment analysis and confidence scores\n",
    "df['sentiment'] = None\n",
    "df['confidence'] = None\n",
    "\n",
    "# Loop through the DataFrame and run the sentiment analysis on each player bio (~40 minutes on a CPU)\n",
    "for index, row in df.iterrows():\n",
    "    result = nlp(row['Player Bio'])\n",
    "    df.at[index, 'sentiment'] = result[0]['label']\n",
    "    df.at[index, 'confidence'] = result[0]['score']\n"
   ]
  },
  {
   "cell_type": "code",
   "execution_count": null,
   "metadata": {},
   "outputs": [],
   "source": [
    "# Create a new column for adjusted confidence\n",
    "df['adjusted_confidence'] = None\n",
    "\n",
    "# If the sentiment is negative, subtract the confidence score from 1\n",
    "for index, row in df.iterrows():\n",
    "    if row['sentiment'] == 'NEGATIVE':\n",
    "        df.at[index, 'adjusted_confidence'] = 1 - row['confidence']\n",
    "    else:\n",
    "        df.at[index, 'adjusted_confidence'] = row['confidence']\n"
   ]
  },
  {
   "cell_type": "code",
   "execution_count": null,
   "metadata": {},
   "outputs": [],
   "source": []
  }
 ],
 "metadata": {
  "kernelspec": {
   "display_name": "base",
   "language": "python",
   "name": "python3"
  },
  "language_info": {
   "name": "python",
   "version": "3.9.7 (default, Sep 16 2021, 08:50:36) \n[Clang 10.0.0 ]"
  },
  "orig_nbformat": 4,
  "vscode": {
   "interpreter": {
    "hash": "838e51ec53c769d56e1cc4cb363682f0a508bbcae9a91bec1df886143b87e50b"
   }
  }
 },
 "nbformat": 4,
 "nbformat_minor": 2
}
