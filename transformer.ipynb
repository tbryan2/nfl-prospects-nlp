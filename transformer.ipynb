{
  "cells": [
    {
      "cell_type": "code",
      "execution_count": null,
      "metadata": {
        "id": "HbxyZ9cuIT-n",
        "outputId": "a0c5199b-c9e0-499a-a709-2861e5bacc78",
        "colab": {
          "base_uri": "https://localhost:8080/"
        }
      },
      "outputs": [
        {
          "output_type": "stream",
          "name": "stdout",
          "text": [
            "Looking in indexes: https://pypi.org/simple, https://us-python.pkg.dev/colab-wheels/public/simple/\n",
            "Requirement already satisfied: transformers in /usr/local/lib/python3.8/dist-packages (4.26.1)\n",
            "Requirement already satisfied: tokenizers!=0.11.3,<0.14,>=0.11.1 in /usr/local/lib/python3.8/dist-packages (from transformers) (0.13.2)\n",
            "Requirement already satisfied: pyyaml>=5.1 in /usr/local/lib/python3.8/dist-packages (from transformers) (6.0)\n",
            "Requirement already satisfied: numpy>=1.17 in /usr/local/lib/python3.8/dist-packages (from transformers) (1.21.6)\n",
            "Requirement already satisfied: requests in /usr/local/lib/python3.8/dist-packages (from transformers) (2.25.1)\n",
            "Requirement already satisfied: filelock in /usr/local/lib/python3.8/dist-packages (from transformers) (3.9.0)\n",
            "Requirement already satisfied: tqdm>=4.27 in /usr/local/lib/python3.8/dist-packages (from transformers) (4.64.1)\n",
            "Requirement already satisfied: huggingface-hub<1.0,>=0.11.0 in /usr/local/lib/python3.8/dist-packages (from transformers) (0.12.0)\n",
            "Requirement already satisfied: regex!=2019.12.17 in /usr/local/lib/python3.8/dist-packages (from transformers) (2022.6.2)\n",
            "Requirement already satisfied: packaging>=20.0 in /usr/local/lib/python3.8/dist-packages (from transformers) (23.0)\n",
            "Requirement already satisfied: typing-extensions>=3.7.4.3 in /usr/local/lib/python3.8/dist-packages (from huggingface-hub<1.0,>=0.11.0->transformers) (4.4.0)\n",
            "Requirement already satisfied: idna<3,>=2.5 in /usr/local/lib/python3.8/dist-packages (from requests->transformers) (2.10)\n",
            "Requirement already satisfied: urllib3<1.27,>=1.21.1 in /usr/local/lib/python3.8/dist-packages (from requests->transformers) (1.26.14)\n",
            "Requirement already satisfied: chardet<5,>=3.0.2 in /usr/local/lib/python3.8/dist-packages (from requests->transformers) (4.0.0)\n",
            "Requirement already satisfied: certifi>=2017.4.17 in /usr/local/lib/python3.8/dist-packages (from requests->transformers) (2022.12.7)\n",
            "Looking in indexes: https://pypi.org/simple, https://us-python.pkg.dev/colab-wheels/public/simple/\n",
            "Requirement already satisfied: datasets in /usr/local/lib/python3.8/dist-packages (2.9.0)\n",
            "Requirement already satisfied: huggingface-hub<1.0.0,>=0.2.0 in /usr/local/lib/python3.8/dist-packages (from datasets) (0.12.0)\n",
            "Requirement already satisfied: numpy>=1.17 in /usr/local/lib/python3.8/dist-packages (from datasets) (1.21.6)\n",
            "Requirement already satisfied: packaging in /usr/local/lib/python3.8/dist-packages (from datasets) (23.0)\n",
            "Requirement already satisfied: pandas in /usr/local/lib/python3.8/dist-packages (from datasets) (1.3.5)\n",
            "Requirement already satisfied: tqdm>=4.62.1 in /usr/local/lib/python3.8/dist-packages (from datasets) (4.64.1)\n",
            "Requirement already satisfied: pyyaml>=5.1 in /usr/local/lib/python3.8/dist-packages (from datasets) (6.0)\n",
            "Requirement already satisfied: multiprocess in /usr/local/lib/python3.8/dist-packages (from datasets) (0.70.14)\n",
            "Requirement already satisfied: dill<0.3.7 in /usr/local/lib/python3.8/dist-packages (from datasets) (0.3.6)\n",
            "Requirement already satisfied: responses<0.19 in /usr/local/lib/python3.8/dist-packages (from datasets) (0.18.0)\n",
            "Requirement already satisfied: xxhash in /usr/local/lib/python3.8/dist-packages (from datasets) (3.2.0)\n",
            "Requirement already satisfied: requests>=2.19.0 in /usr/local/lib/python3.8/dist-packages (from datasets) (2.25.1)\n",
            "Requirement already satisfied: aiohttp in /usr/local/lib/python3.8/dist-packages (from datasets) (3.8.3)\n",
            "Requirement already satisfied: fsspec[http]>=2021.11.1 in /usr/local/lib/python3.8/dist-packages (from datasets) (2023.1.0)\n",
            "Requirement already satisfied: pyarrow>=6.0.0 in /usr/local/lib/python3.8/dist-packages (from datasets) (9.0.0)\n",
            "Requirement already satisfied: async-timeout<5.0,>=4.0.0a3 in /usr/local/lib/python3.8/dist-packages (from aiohttp->datasets) (4.0.2)\n",
            "Requirement already satisfied: yarl<2.0,>=1.0 in /usr/local/lib/python3.8/dist-packages (from aiohttp->datasets) (1.8.2)\n",
            "Requirement already satisfied: multidict<7.0,>=4.5 in /usr/local/lib/python3.8/dist-packages (from aiohttp->datasets) (6.0.4)\n",
            "Requirement already satisfied: frozenlist>=1.1.1 in /usr/local/lib/python3.8/dist-packages (from aiohttp->datasets) (1.3.3)\n",
            "Requirement already satisfied: charset-normalizer<3.0,>=2.0 in /usr/local/lib/python3.8/dist-packages (from aiohttp->datasets) (2.1.1)\n",
            "Requirement already satisfied: aiosignal>=1.1.2 in /usr/local/lib/python3.8/dist-packages (from aiohttp->datasets) (1.3.1)\n",
            "Requirement already satisfied: attrs>=17.3.0 in /usr/local/lib/python3.8/dist-packages (from aiohttp->datasets) (22.2.0)\n",
            "Requirement already satisfied: typing-extensions>=3.7.4.3 in /usr/local/lib/python3.8/dist-packages (from huggingface-hub<1.0.0,>=0.2.0->datasets) (4.4.0)\n",
            "Requirement already satisfied: filelock in /usr/local/lib/python3.8/dist-packages (from huggingface-hub<1.0.0,>=0.2.0->datasets) (3.9.0)\n",
            "Requirement already satisfied: idna<3,>=2.5 in /usr/local/lib/python3.8/dist-packages (from requests>=2.19.0->datasets) (2.10)\n",
            "Requirement already satisfied: chardet<5,>=3.0.2 in /usr/local/lib/python3.8/dist-packages (from requests>=2.19.0->datasets) (4.0.0)\n",
            "Requirement already satisfied: urllib3<1.27,>=1.21.1 in /usr/local/lib/python3.8/dist-packages (from requests>=2.19.0->datasets) (1.26.14)\n",
            "Requirement already satisfied: certifi>=2017.4.17 in /usr/local/lib/python3.8/dist-packages (from requests>=2.19.0->datasets) (2022.12.7)\n",
            "Requirement already satisfied: python-dateutil>=2.7.3 in /usr/local/lib/python3.8/dist-packages (from pandas->datasets) (2.8.2)\n",
            "Requirement already satisfied: pytz>=2017.3 in /usr/local/lib/python3.8/dist-packages (from pandas->datasets) (2022.7.1)\n",
            "Requirement already satisfied: six>=1.5 in /usr/local/lib/python3.8/dist-packages (from python-dateutil>=2.7.3->pandas->datasets) (1.15.0)\n"
          ]
        }
      ],
      "source": [
        "# Install dependencies (for Colab)\n",
        "!pip install transformers\n",
        "!pip install datasets"
      ]
    },
    {
      "cell_type": "code",
      "execution_count": null,
      "metadata": {
        "id": "bJiGavCnIT-o"
      },
      "outputs": [],
      "source": [
        "# Import dependencies\n",
        "import pandas as pd\n",
        "import torch\n",
        "from transformers import BertTokenizer, BertModel\n",
        "from transformers import pipeline\n",
        "import tensorflow as tf\n",
        "import numpy as np\n",
        "from transformers import TFAutoModelForSequenceClassification\n",
        "from transformers import AutoTokenizer\n",
        "from tensorflow.keras.losses import SparseCategoricalCrossentropy"
      ]
    },
    {
      "cell_type": "code",
      "execution_count": null,
      "metadata": {
        "id": "IFaofT4iIT-q",
        "outputId": "ddb5f163-d567-4701-9b32-7dd6910e4e16",
        "colab": {
          "base_uri": "https://localhost:8080/"
        }
      },
      "outputs": [
        {
          "output_type": "execute_result",
          "data": {
            "text/plain": [
              "True"
            ]
          },
          "metadata": {},
          "execution_count": 2
        }
      ],
      "source": [
        "# Check if a GPU is available\n",
        "torch.cuda.is_available()"
      ]
    },
    {
      "cell_type": "code",
      "execution_count": null,
      "metadata": {
        "id": "R6PnBBc2IT-q"
      },
      "outputs": [],
      "source": [
        "# Load the DataFrame from csv\n",
        "df = pd.read_csv('data/player_bios.csv')"
      ]
    },
    {
      "cell_type": "code",
      "execution_count": null,
      "metadata": {
        "id": "IiKXasJ5IT-r"
      },
      "outputs": [],
      "source": [
        "# Load data (for Colab)\n",
        "df = pd.read_csv('https://raw.githubusercontent.com/tbryan2/nfl-prospects-nlp/main/data/player_bios.csv')"
      ]
    },
    {
      "cell_type": "code",
      "execution_count": null,
      "metadata": {
        "id": "C_UsCXrrIT-s",
        "outputId": "f7a0ccc8-b7d4-4e18-df97-36ede37c31a7",
        "colab": {
          "base_uri": "https://localhost:8080/",
          "height": 820
        }
      },
      "outputs": [
        {
          "output_type": "execute_result",
          "data": {
            "text/plain": [
              "                Player                                         Player Bio  \\\n",
              "0     Jadeveon Clowney  A physical specimen with a rare size-speed com...   \n",
              "1        Sammy Watkins  A legitimate No. 1-caliber receiver who steppe...   \n",
              "2         Anthony Barr  A highly disruptive, athletic specimen with th...   \n",
              "3          Khalil Mack  A havoc-wreaking rush linebacker with the burs...   \n",
              "4        Jake Matthews  Smart, tough, versatile franchise left tackle ...   \n",
              "...                ...                                                ...   \n",
              "3964       Jeremy Webb  Webb is a Florida product but helped Stevenson...   \n",
              "3965        Russ Yeast  Russ is the son of Craig Yeast, who was the SE...   \n",
              "3966         Ken Marks  Marks was known as \"Grandpa\" on the field as a...   \n",
              "3967        Devin Wynn  Wynn was coached by former Georgia and NFL run...   \n",
              "3968       Inoke Moala  Moala signed with Indiana State and then-head ...   \n",
              "\n",
              "      Player Grades                                               Link  \\\n",
              "0              7.50  https://www.nfl.com/prospects/jadeveon-clowney...   \n",
              "1              7.10  https://www.nfl.com/prospects/sammy-watkins/32...   \n",
              "2              7.00  https://www.nfl.com/prospects/anthony-barr/320...   \n",
              "3              7.00  https://www.nfl.com/prospects/khalil-mack/3200...   \n",
              "4              7.00  https://www.nfl.com/prospects/jake-matthews/32...   \n",
              "...             ...                                                ...   \n",
              "3964           5.50  https://www.nfl.com/prospects/jeremy-webb/3200...   \n",
              "3965           5.50  https://www.nfl.com/prospects/russ-yeast/32005...   \n",
              "3966           5.49  https://www.nfl.com/prospects/ken-marks/32004d...   \n",
              "3967           5.46  https://www.nfl.com/prospects/devin-wynn/32005...   \n",
              "3968           5.40  https://www.nfl.com/prospects/inoke-moala/3200...   \n",
              "\n",
              "                    Player Category  \n",
              "0                 Perennial All-Pro  \n",
              "1                   Pro Bowl Talent  \n",
              "2                   Pro Bowl Talent  \n",
              "3                   Pro Bowl Talent  \n",
              "4                   Pro Bowl Talent  \n",
              "...                             ...  \n",
              "3964  Priority Undrafted Free Agent  \n",
              "3965  Priority Undrafted Free Agent  \n",
              "3966  Priority Undrafted Free Agent  \n",
              "3967  Priority Undrafted Free Agent  \n",
              "3968  Priority Undrafted Free Agent  \n",
              "\n",
              "[3969 rows x 5 columns]"
            ],
            "text/html": [
              "\n",
              "  <div id=\"df-61a73c52-82c3-42e5-a6c6-d1131243cf42\">\n",
              "    <div class=\"colab-df-container\">\n",
              "      <div>\n",
              "<style scoped>\n",
              "    .dataframe tbody tr th:only-of-type {\n",
              "        vertical-align: middle;\n",
              "    }\n",
              "\n",
              "    .dataframe tbody tr th {\n",
              "        vertical-align: top;\n",
              "    }\n",
              "\n",
              "    .dataframe thead th {\n",
              "        text-align: right;\n",
              "    }\n",
              "</style>\n",
              "<table border=\"1\" class=\"dataframe\">\n",
              "  <thead>\n",
              "    <tr style=\"text-align: right;\">\n",
              "      <th></th>\n",
              "      <th>Player</th>\n",
              "      <th>Player Bio</th>\n",
              "      <th>Player Grades</th>\n",
              "      <th>Link</th>\n",
              "      <th>Player Category</th>\n",
              "    </tr>\n",
              "  </thead>\n",
              "  <tbody>\n",
              "    <tr>\n",
              "      <th>0</th>\n",
              "      <td>Jadeveon Clowney</td>\n",
              "      <td>A physical specimen with a rare size-speed com...</td>\n",
              "      <td>7.50</td>\n",
              "      <td>https://www.nfl.com/prospects/jadeveon-clowney...</td>\n",
              "      <td>Perennial All-Pro</td>\n",
              "    </tr>\n",
              "    <tr>\n",
              "      <th>1</th>\n",
              "      <td>Sammy Watkins</td>\n",
              "      <td>A legitimate No. 1-caliber receiver who steppe...</td>\n",
              "      <td>7.10</td>\n",
              "      <td>https://www.nfl.com/prospects/sammy-watkins/32...</td>\n",
              "      <td>Pro Bowl Talent</td>\n",
              "    </tr>\n",
              "    <tr>\n",
              "      <th>2</th>\n",
              "      <td>Anthony Barr</td>\n",
              "      <td>A highly disruptive, athletic specimen with th...</td>\n",
              "      <td>7.00</td>\n",
              "      <td>https://www.nfl.com/prospects/anthony-barr/320...</td>\n",
              "      <td>Pro Bowl Talent</td>\n",
              "    </tr>\n",
              "    <tr>\n",
              "      <th>3</th>\n",
              "      <td>Khalil Mack</td>\n",
              "      <td>A havoc-wreaking rush linebacker with the burs...</td>\n",
              "      <td>7.00</td>\n",
              "      <td>https://www.nfl.com/prospects/khalil-mack/3200...</td>\n",
              "      <td>Pro Bowl Talent</td>\n",
              "    </tr>\n",
              "    <tr>\n",
              "      <th>4</th>\n",
              "      <td>Jake Matthews</td>\n",
              "      <td>Smart, tough, versatile franchise left tackle ...</td>\n",
              "      <td>7.00</td>\n",
              "      <td>https://www.nfl.com/prospects/jake-matthews/32...</td>\n",
              "      <td>Pro Bowl Talent</td>\n",
              "    </tr>\n",
              "    <tr>\n",
              "      <th>...</th>\n",
              "      <td>...</td>\n",
              "      <td>...</td>\n",
              "      <td>...</td>\n",
              "      <td>...</td>\n",
              "      <td>...</td>\n",
              "    </tr>\n",
              "    <tr>\n",
              "      <th>3964</th>\n",
              "      <td>Jeremy Webb</td>\n",
              "      <td>Webb is a Florida product but helped Stevenson...</td>\n",
              "      <td>5.50</td>\n",
              "      <td>https://www.nfl.com/prospects/jeremy-webb/3200...</td>\n",
              "      <td>Priority Undrafted Free Agent</td>\n",
              "    </tr>\n",
              "    <tr>\n",
              "      <th>3965</th>\n",
              "      <td>Russ Yeast</td>\n",
              "      <td>Russ is the son of Craig Yeast, who was the SE...</td>\n",
              "      <td>5.50</td>\n",
              "      <td>https://www.nfl.com/prospects/russ-yeast/32005...</td>\n",
              "      <td>Priority Undrafted Free Agent</td>\n",
              "    </tr>\n",
              "    <tr>\n",
              "      <th>3966</th>\n",
              "      <td>Ken Marks</td>\n",
              "      <td>Marks was known as \"Grandpa\" on the field as a...</td>\n",
              "      <td>5.49</td>\n",
              "      <td>https://www.nfl.com/prospects/ken-marks/32004d...</td>\n",
              "      <td>Priority Undrafted Free Agent</td>\n",
              "    </tr>\n",
              "    <tr>\n",
              "      <th>3967</th>\n",
              "      <td>Devin Wynn</td>\n",
              "      <td>Wynn was coached by former Georgia and NFL run...</td>\n",
              "      <td>5.46</td>\n",
              "      <td>https://www.nfl.com/prospects/devin-wynn/32005...</td>\n",
              "      <td>Priority Undrafted Free Agent</td>\n",
              "    </tr>\n",
              "    <tr>\n",
              "      <th>3968</th>\n",
              "      <td>Inoke Moala</td>\n",
              "      <td>Moala signed with Indiana State and then-head ...</td>\n",
              "      <td>5.40</td>\n",
              "      <td>https://www.nfl.com/prospects/inoke-moala/3200...</td>\n",
              "      <td>Priority Undrafted Free Agent</td>\n",
              "    </tr>\n",
              "  </tbody>\n",
              "</table>\n",
              "<p>3969 rows × 5 columns</p>\n",
              "</div>\n",
              "      <button class=\"colab-df-convert\" onclick=\"convertToInteractive('df-61a73c52-82c3-42e5-a6c6-d1131243cf42')\"\n",
              "              title=\"Convert this dataframe to an interactive table.\"\n",
              "              style=\"display:none;\">\n",
              "        \n",
              "  <svg xmlns=\"http://www.w3.org/2000/svg\" height=\"24px\"viewBox=\"0 0 24 24\"\n",
              "       width=\"24px\">\n",
              "    <path d=\"M0 0h24v24H0V0z\" fill=\"none\"/>\n",
              "    <path d=\"M18.56 5.44l.94 2.06.94-2.06 2.06-.94-2.06-.94-.94-2.06-.94 2.06-2.06.94zm-11 1L8.5 8.5l.94-2.06 2.06-.94-2.06-.94L8.5 2.5l-.94 2.06-2.06.94zm10 10l.94 2.06.94-2.06 2.06-.94-2.06-.94-.94-2.06-.94 2.06-2.06.94z\"/><path d=\"M17.41 7.96l-1.37-1.37c-.4-.4-.92-.59-1.43-.59-.52 0-1.04.2-1.43.59L10.3 9.45l-7.72 7.72c-.78.78-.78 2.05 0 2.83L4 21.41c.39.39.9.59 1.41.59.51 0 1.02-.2 1.41-.59l7.78-7.78 2.81-2.81c.8-.78.8-2.07 0-2.86zM5.41 20L4 18.59l7.72-7.72 1.47 1.35L5.41 20z\"/>\n",
              "  </svg>\n",
              "      </button>\n",
              "      \n",
              "  <style>\n",
              "    .colab-df-container {\n",
              "      display:flex;\n",
              "      flex-wrap:wrap;\n",
              "      gap: 12px;\n",
              "    }\n",
              "\n",
              "    .colab-df-convert {\n",
              "      background-color: #E8F0FE;\n",
              "      border: none;\n",
              "      border-radius: 50%;\n",
              "      cursor: pointer;\n",
              "      display: none;\n",
              "      fill: #1967D2;\n",
              "      height: 32px;\n",
              "      padding: 0 0 0 0;\n",
              "      width: 32px;\n",
              "    }\n",
              "\n",
              "    .colab-df-convert:hover {\n",
              "      background-color: #E2EBFA;\n",
              "      box-shadow: 0px 1px 2px rgba(60, 64, 67, 0.3), 0px 1px 3px 1px rgba(60, 64, 67, 0.15);\n",
              "      fill: #174EA6;\n",
              "    }\n",
              "\n",
              "    [theme=dark] .colab-df-convert {\n",
              "      background-color: #3B4455;\n",
              "      fill: #D2E3FC;\n",
              "    }\n",
              "\n",
              "    [theme=dark] .colab-df-convert:hover {\n",
              "      background-color: #434B5C;\n",
              "      box-shadow: 0px 1px 3px 1px rgba(0, 0, 0, 0.15);\n",
              "      filter: drop-shadow(0px 1px 2px rgba(0, 0, 0, 0.3));\n",
              "      fill: #FFFFFF;\n",
              "    }\n",
              "  </style>\n",
              "\n",
              "      <script>\n",
              "        const buttonEl =\n",
              "          document.querySelector('#df-61a73c52-82c3-42e5-a6c6-d1131243cf42 button.colab-df-convert');\n",
              "        buttonEl.style.display =\n",
              "          google.colab.kernel.accessAllowed ? 'block' : 'none';\n",
              "\n",
              "        async function convertToInteractive(key) {\n",
              "          const element = document.querySelector('#df-61a73c52-82c3-42e5-a6c6-d1131243cf42');\n",
              "          const dataTable =\n",
              "            await google.colab.kernel.invokeFunction('convertToInteractive',\n",
              "                                                     [key], {});\n",
              "          if (!dataTable) return;\n",
              "\n",
              "          const docLinkHtml = 'Like what you see? Visit the ' +\n",
              "            '<a target=\"_blank\" href=https://colab.research.google.com/notebooks/data_table.ipynb>data table notebook</a>'\n",
              "            + ' to learn more about interactive tables.';\n",
              "          element.innerHTML = '';\n",
              "          dataTable['output_type'] = 'display_data';\n",
              "          await google.colab.output.renderOutput(dataTable, element);\n",
              "          const docLink = document.createElement('div');\n",
              "          docLink.innerHTML = docLinkHtml;\n",
              "          element.appendChild(docLink);\n",
              "        }\n",
              "      </script>\n",
              "    </div>\n",
              "  </div>\n",
              "  "
            ]
          },
          "metadata": {},
          "execution_count": 4
        }
      ],
      "source": [
        "df"
      ]
    },
    {
      "cell_type": "code",
      "execution_count": null,
      "metadata": {
        "id": "LLUtTtfEIT-s",
        "colab": {
          "base_uri": "https://localhost:8080/"
        },
        "outputId": "a1807456-1478-4647-e599-bac797f807f2"
      },
      "outputs": [
        {
          "output_type": "stream",
          "name": "stderr",
          "text": [
            "<ipython-input-5-303b73ea2ca5>:5: SettingWithCopyWarning: \n",
            "A value is trying to be set on a copy of a slice from a DataFrame.\n",
            "Try using .loc[row_indexer,col_indexer] = value instead\n",
            "\n",
            "See the caveats in the documentation: https://pandas.pydata.org/pandas-docs/stable/user_guide/indexing.html#returning-a-view-versus-a-copy\n",
            "  df_fine_tune['Player Category'] = df_fine_tune['Player Category'].astype('category').cat.codes\n"
          ]
        }
      ],
      "source": [
        "# Create a new DataFrame to use for fine-tuning the model with just the Player Bio and Player Category columns\n",
        "df_fine_tune = df[['Player Bio', 'Player Category']]\n",
        "\n",
        "# Convert the player Category column to integers\n",
        "df_fine_tune['Player Category'] = df_fine_tune['Player Category'].astype('category').cat.codes"
      ]
    },
    {
      "cell_type": "code",
      "source": [
        "checkpoint = \"distilbert-base-uncased\"\n",
        "tokenizer = AutoTokenizer.from_pretrained(checkpoint)"
      ],
      "metadata": {
        "id": "mi4c5iXY6lZ0"
      },
      "execution_count": null,
      "outputs": []
    },
    {
      "cell_type": "code",
      "execution_count": null,
      "metadata": {
        "id": "gyVokmrhIT-t"
      },
      "outputs": [],
      "source": [
        "# Split the dataset into train and test sets\n",
        "train = df_fine_tune.sample(frac=0.8, random_state=0)\n",
        "test = df_fine_tune.drop(train.index)"
      ]
    },
    {
      "cell_type": "code",
      "execution_count": null,
      "metadata": {
        "id": "ZGQYGSh8IT-u"
      },
      "outputs": [],
      "source": [
        "# Preprocess the text in the train and test sets\n",
        "train_encodings = tokenizer(train['Player Bio'].to_list(),\n",
        "                            truncation=True,\n",
        "                            padding=True,\n",
        "                            return_tensors='tf'\n",
        ")\n",
        "test_encodings = tokenizer(test['Player Bio'].to_list(),\n",
        "                            truncation=True,\n",
        "                            padding=True,\n",
        "                            return_tensors='tf'\n",
        ")\n",
        "\n",
        "# Define the training and testing labels\n",
        "train_labels = train['Player Category'].to_list()\n",
        "test_labels = test['Player Category'].to_list()"
      ]
    },
    {
      "cell_type": "code",
      "source": [
        "train_dataset = tf.data.Dataset.from_tensor_slices((\n",
        "    dict(train_encodings),\n",
        "    train_labels\n",
        "))\n",
        "\n",
        "test_dataset = tf.data.Dataset.from_tensor_slices((\n",
        "    dict(test_encodings),\n",
        "    test_labels\n",
        "))"
      ],
      "metadata": {
        "id": "ikdQqI3JMElk"
      },
      "execution_count": null,
      "outputs": []
    },
    {
      "cell_type": "code",
      "execution_count": null,
      "metadata": {
        "id": "MUtqVM3pIT-v",
        "colab": {
          "base_uri": "https://localhost:8080/"
        },
        "outputId": "0d70fdaf-d80a-4bc5-880a-fe9a1bcf23dd"
      },
      "outputs": [
        {
          "output_type": "stream",
          "name": "stderr",
          "text": [
            "Some layers from the model checkpoint at distilbert-base-uncased were not used when initializing TFDistilBertForSequenceClassification: ['vocab_layer_norm', 'activation_13', 'vocab_transform', 'vocab_projector']\n",
            "- This IS expected if you are initializing TFDistilBertForSequenceClassification from the checkpoint of a model trained on another task or with another architecture (e.g. initializing a BertForSequenceClassification model from a BertForPreTraining model).\n",
            "- This IS NOT expected if you are initializing TFDistilBertForSequenceClassification from the checkpoint of a model that you expect to be exactly identical (initializing a BertForSequenceClassification model from a BertForSequenceClassification model).\n",
            "Some layers of TFDistilBertForSequenceClassification were not initialized from the model checkpoint at distilbert-base-uncased and are newly initialized: ['pre_classifier', 'classifier', 'dropout_19']\n",
            "You should probably TRAIN this model on a down-stream task to be able to use it for predictions and inference.\n"
          ]
        }
      ],
      "source": [
        "# Import a base zero shot classification model to fine tune\n",
        "model = TFAutoModelForSequenceClassification.from_pretrained(checkpoint, num_labels=12)"
      ]
    },
    {
      "cell_type": "code",
      "source": [
        "model.compile(\n",
        "    optimizer=tf.keras.optimizers.Adam(learning_rate=5e-5),\n",
        "    loss=SparseCategoricalCrossentropy(from_logits=True),\n",
        "    metrics=['accuracy'],\n",
        ")"
      ],
      "metadata": {
        "id": "S6cxgDee4956"
      },
      "execution_count": null,
      "outputs": []
    },
    {
      "cell_type": "code",
      "source": [
        "model.fit(train_dataset.shuffle(100).batch(16),\n",
        "          epochs=10,\n",
        "          batch_size=16,\n",
        "          validation_data=test_dataset.shuffle(100).batch(16))"
      ],
      "metadata": {
        "colab": {
          "base_uri": "https://localhost:8080/"
        },
        "id": "sd1AZRMs5HeC",
        "outputId": "70ded342-b78e-4f28-d408-c3ed5fc58a7a"
      },
      "execution_count": null,
      "outputs": [
        {
          "output_type": "stream",
          "name": "stdout",
          "text": [
            "Epoch 1/10\n",
            "199/199 [==============================] - 187s 937ms/step - loss: 1.4272 - accuracy: 0.4712 - val_loss: 1.8508 - val_accuracy: 0.3401\n",
            "Epoch 2/10\n",
            "199/199 [==============================] - 192s 965ms/step - loss: 1.2078 - accuracy: 0.5565 - val_loss: 2.1304 - val_accuracy: 0.3602\n",
            "Epoch 3/10\n",
            "199/199 [==============================] - 186s 937ms/step - loss: 1.0128 - accuracy: 0.6186 - val_loss: 2.4547 - val_accuracy: 0.3136\n",
            "Epoch 4/10\n",
            "199/199 [==============================] - 187s 938ms/step - loss: 0.8412 - accuracy: 0.6819 - val_loss: 2.8586 - val_accuracy: 0.2670\n",
            "Epoch 5/10\n",
            "199/199 [==============================] - 192s 965ms/step - loss: 0.7229 - accuracy: 0.7370 - val_loss: 3.1248 - val_accuracy: 0.2922\n",
            "Epoch 6/10\n",
            "199/199 [==============================] - 186s 936ms/step - loss: 0.5305 - accuracy: 0.8088 - val_loss: 3.1495 - val_accuracy: 0.3287\n",
            "Epoch 7/10\n",
            "199/199 [==============================] - 186s 936ms/step - loss: 0.4972 - accuracy: 0.8268 - val_loss: 3.4430 - val_accuracy: 0.3174\n",
            "Epoch 8/10\n",
            "199/199 [==============================] - 186s 937ms/step - loss: 0.3393 - accuracy: 0.8863 - val_loss: 3.9078 - val_accuracy: 0.2947\n",
            "Epoch 9/10\n",
            "199/199 [==============================] - 186s 936ms/step - loss: 0.2571 - accuracy: 0.9115 - val_loss: 3.7749 - val_accuracy: 0.3123\n",
            "Epoch 10/10\n",
            "199/199 [==============================] - 186s 937ms/step - loss: 0.2012 - accuracy: 0.9307 - val_loss: 4.1819 - val_accuracy: 0.2809\n"
          ]
        },
        {
          "output_type": "execute_result",
          "data": {
            "text/plain": [
              "<keras.callbacks.History at 0x7f6b1438d970>"
            ]
          },
          "metadata": {},
          "execution_count": 14
        }
      ]
    },
    {
      "cell_type": "code",
      "source": [
        "model.save_pretrained(\"/usr/prospect_category_model\")"
      ],
      "metadata": {
        "id": "oWuDHDfwJqgT"
      },
      "execution_count": null,
      "outputs": []
    }
  ],
  "metadata": {
    "kernelspec": {
      "display_name": "base",
      "language": "python",
      "name": "python3"
    },
    "language_info": {
      "codemirror_mode": {
        "name": "ipython",
        "version": 3
      },
      "file_extension": ".py",
      "mimetype": "text/x-python",
      "name": "python",
      "nbconvert_exporter": "python",
      "pygments_lexer": "ipython3",
      "version": "3.9.7"
    },
    "orig_nbformat": 4,
    "vscode": {
      "interpreter": {
        "hash": "838e51ec53c769d56e1cc4cb363682f0a508bbcae9a91bec1df886143b87e50b"
      }
    },
    "colab": {
      "provenance": []
    },
    "accelerator": "GPU",
    "gpuClass": "standard"
  },
  "nbformat": 4,
  "nbformat_minor": 0
}