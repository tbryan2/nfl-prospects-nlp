{
 "cells": [
  {
   "cell_type": "code",
   "execution_count": 13,
   "metadata": {},
   "outputs": [],
   "source": [
    "# Basic Dependencies\n",
    "import nfl_data_py as nfl\n",
    "import pandas as pd\n",
    "import numpy as np\n",
    "import matplotlib.pyplot as plt\n",
    "import seaborn as sns\n",
    "\n",
    "# Import hugging face transformers\n",
    "from transformers import BertTokenizer, BertModel, BertForMaskedLM\n",
    "from transformers import pipeline"
   ]
  },
  {
   "cell_type": "code",
   "execution_count": 14,
   "metadata": {},
   "outputs": [
    {
     "data": {
      "text/html": [
       "<div>\n",
       "<style scoped>\n",
       "    .dataframe tbody tr th:only-of-type {\n",
       "        vertical-align: middle;\n",
       "    }\n",
       "\n",
       "    .dataframe tbody tr th {\n",
       "        vertical-align: top;\n",
       "    }\n",
       "\n",
       "    .dataframe thead th {\n",
       "        text-align: right;\n",
       "    }\n",
       "</style>\n",
       "<table border=\"1\" class=\"dataframe\">\n",
       "  <thead>\n",
       "    <tr style=\"text-align: right;\">\n",
       "      <th></th>\n",
       "      <th>Player Bio</th>\n",
       "      <th>Player Grades</th>\n",
       "      <th>Player</th>\n",
       "      <th>Link</th>\n",
       "    </tr>\n",
       "  </thead>\n",
       "  <tbody>\n",
       "    <tr>\n",
       "      <th>0</th>\n",
       "      <td>A physical specimen with a rare size-speed com...</td>\n",
       "      <td>7.50</td>\n",
       "      <td>Jadeveon Clowney</td>\n",
       "      <td>https://www.nfl.com/prospects/jadeveon-clowney...</td>\n",
       "    </tr>\n",
       "    <tr>\n",
       "      <th>1</th>\n",
       "      <td>A legitimate No. 1-caliber receiver who steppe...</td>\n",
       "      <td>7.10</td>\n",
       "      <td>Sammy Watkins</td>\n",
       "      <td>https://www.nfl.com/prospects/sammy-watkins/32...</td>\n",
       "    </tr>\n",
       "    <tr>\n",
       "      <th>2</th>\n",
       "      <td>A highly disruptive, athletic specimen with th...</td>\n",
       "      <td>7.00</td>\n",
       "      <td>Anthony Barr</td>\n",
       "      <td>https://www.nfl.com/prospects/anthony-barr/320...</td>\n",
       "    </tr>\n",
       "    <tr>\n",
       "      <th>3</th>\n",
       "      <td>A havoc-wreaking rush linebacker with the burs...</td>\n",
       "      <td>7.00</td>\n",
       "      <td>Khalil Mack</td>\n",
       "      <td>https://www.nfl.com/prospects/khalil-mack/3200...</td>\n",
       "    </tr>\n",
       "    <tr>\n",
       "      <th>4</th>\n",
       "      <td>Smart, tough, versatile franchise left tackle ...</td>\n",
       "      <td>7.00</td>\n",
       "      <td>Jake Matthews</td>\n",
       "      <td>https://www.nfl.com/prospects/jake-matthews/32...</td>\n",
       "    </tr>\n",
       "    <tr>\n",
       "      <th>...</th>\n",
       "      <td>...</td>\n",
       "      <td>...</td>\n",
       "      <td>...</td>\n",
       "      <td>...</td>\n",
       "    </tr>\n",
       "    <tr>\n",
       "      <th>3964</th>\n",
       "      <td>Webb is a Florida product but helped Stevenson...</td>\n",
       "      <td>5.50</td>\n",
       "      <td>Jeremy Webb</td>\n",
       "      <td>https://www.nfl.com/prospects/jeremy-webb/3200...</td>\n",
       "    </tr>\n",
       "    <tr>\n",
       "      <th>3965</th>\n",
       "      <td>Russ is the son of Craig Yeast, who was the SE...</td>\n",
       "      <td>5.50</td>\n",
       "      <td>Russ Yeast</td>\n",
       "      <td>https://www.nfl.com/prospects/russ-yeast/32005...</td>\n",
       "    </tr>\n",
       "    <tr>\n",
       "      <th>3966</th>\n",
       "      <td>Marks was known as \"Grandpa\" on the field as a...</td>\n",
       "      <td>5.49</td>\n",
       "      <td>Ken Marks</td>\n",
       "      <td>https://www.nfl.com/prospects/ken-marks/32004d...</td>\n",
       "    </tr>\n",
       "    <tr>\n",
       "      <th>3967</th>\n",
       "      <td>Wynn was coached by former Georgia and NFL run...</td>\n",
       "      <td>5.46</td>\n",
       "      <td>Devin Wynn</td>\n",
       "      <td>https://www.nfl.com/prospects/devin-wynn/32005...</td>\n",
       "    </tr>\n",
       "    <tr>\n",
       "      <th>3968</th>\n",
       "      <td>Moala signed with Indiana State and then-head ...</td>\n",
       "      <td>5.40</td>\n",
       "      <td>Inoke Moala</td>\n",
       "      <td>https://www.nfl.com/prospects/inoke-moala/3200...</td>\n",
       "    </tr>\n",
       "  </tbody>\n",
       "</table>\n",
       "<p>3969 rows × 4 columns</p>\n",
       "</div>"
      ],
      "text/plain": [
       "                                             Player Bio  Player Grades  \\\n",
       "0     A physical specimen with a rare size-speed com...           7.50   \n",
       "1     A legitimate No. 1-caliber receiver who steppe...           7.10   \n",
       "2     A highly disruptive, athletic specimen with th...           7.00   \n",
       "3     A havoc-wreaking rush linebacker with the burs...           7.00   \n",
       "4     Smart, tough, versatile franchise left tackle ...           7.00   \n",
       "...                                                 ...            ...   \n",
       "3964  Webb is a Florida product but helped Stevenson...           5.50   \n",
       "3965  Russ is the son of Craig Yeast, who was the SE...           5.50   \n",
       "3966  Marks was known as \"Grandpa\" on the field as a...           5.49   \n",
       "3967  Wynn was coached by former Georgia and NFL run...           5.46   \n",
       "3968  Moala signed with Indiana State and then-head ...           5.40   \n",
       "\n",
       "                Player                                               Link  \n",
       "0     Jadeveon Clowney  https://www.nfl.com/prospects/jadeveon-clowney...  \n",
       "1        Sammy Watkins  https://www.nfl.com/prospects/sammy-watkins/32...  \n",
       "2         Anthony Barr  https://www.nfl.com/prospects/anthony-barr/320...  \n",
       "3          Khalil Mack  https://www.nfl.com/prospects/khalil-mack/3200...  \n",
       "4        Jake Matthews  https://www.nfl.com/prospects/jake-matthews/32...  \n",
       "...                ...                                                ...  \n",
       "3964       Jeremy Webb  https://www.nfl.com/prospects/jeremy-webb/3200...  \n",
       "3965        Russ Yeast  https://www.nfl.com/prospects/russ-yeast/32005...  \n",
       "3966         Ken Marks  https://www.nfl.com/prospects/ken-marks/32004d...  \n",
       "3967        Devin Wynn  https://www.nfl.com/prospects/devin-wynn/32005...  \n",
       "3968       Inoke Moala  https://www.nfl.com/prospects/inoke-moala/3200...  \n",
       "\n",
       "[3969 rows x 4 columns]"
      ]
     },
     "execution_count": 14,
     "metadata": {},
     "output_type": "execute_result"
    }
   ],
   "source": [
    "# Create a DataFrame from the player_bios.csv file\n",
    "df = pd.read_csv('player_bios.csv')\n",
    "\n",
    "df"
   ]
  },
  {
   "cell_type": "code",
   "execution_count": 18,
   "metadata": {},
   "outputs": [
    {
     "data": {
      "application/vnd.jupyter.widget-view+json": {
       "model_id": "d267a4a6273d4db2a2498988a87bbd3a",
       "version_major": 2,
       "version_minor": 0
      },
      "text/plain": [
       "Downloading (…)lve/main/config.json:   0%|          | 0.00/953 [00:00<?, ?B/s]"
      ]
     },
     "metadata": {},
     "output_type": "display_data"
    },
    {
     "data": {
      "application/vnd.jupyter.widget-view+json": {
       "model_id": "3a4df79ee4474484ab65c3f9c31549d5",
       "version_major": 2,
       "version_minor": 0
      },
      "text/plain": [
       "Downloading (…)\"pytorch_model.bin\";:   0%|          | 0.00/669M [00:00<?, ?B/s]"
      ]
     },
     "metadata": {},
     "output_type": "display_data"
    },
    {
     "data": {
      "application/vnd.jupyter.widget-view+json": {
       "model_id": "f42924a97acc44dbbaaa27a0acd21425",
       "version_major": 2,
       "version_minor": 0
      },
      "text/plain": [
       "Downloading (…)okenizer_config.json:   0%|          | 0.00/39.0 [00:00<?, ?B/s]"
      ]
     },
     "metadata": {},
     "output_type": "display_data"
    },
    {
     "data": {
      "application/vnd.jupyter.widget-view+json": {
       "model_id": "f6fbfc97dc834d56aec5a6b964c8b43d",
       "version_major": 2,
       "version_minor": 0
      },
      "text/plain": [
       "Downloading (…)solve/main/vocab.txt:   0%|          | 0.00/872k [00:00<?, ?B/s]"
      ]
     },
     "metadata": {},
     "output_type": "display_data"
    },
    {
     "data": {
      "application/vnd.jupyter.widget-view+json": {
       "model_id": "d648cc8823794020a6676dff77b918d8",
       "version_major": 2,
       "version_minor": 0
      },
      "text/plain": [
       "Downloading (…)cial_tokens_map.json:   0%|          | 0.00/112 [00:00<?, ?B/s]"
      ]
     },
     "metadata": {},
     "output_type": "display_data"
    },
    {
     "name": "stderr",
     "output_type": "stream",
     "text": [
      "Truncation was not explicitly activated but `max_length` is provided a specific value, please use `truncation=True` to explicitly truncate examples to max length. Defaulting to 'longest_first' truncation strategy. If you encode pairs of sequences (GLUE-style) with the tokenizer you can select this strategy more precisely by providing a specific strategy to `truncation`.\n"
     ]
    }
   ],
   "source": [
    "# Create a pipeline to analyze sentiment of player biosw with a max length of 512 tokens\n",
    "nlp = pipeline('sentiment-analysis', model='nlptown/bert-base-multilingual-uncased-sentiment', tokenizer='nlptown/bert-base-multilingual-uncased-sentiment', max_length=512)\n",
    "\n",
    "# Create a new column in the DataFrame to hold the sentiment analysis and confidence scores\n",
    "df['sentiment'] = None\n",
    "df['confidence'] = None\n",
    "\n",
    "# Loop through the DataFrame and run the sentiment analysis on each player bio\n",
    "for index, row in df.iterrows():\n",
    "    result = nlp(row['Player Bio'])\n",
    "    df.at[index, 'sentiment'] = result[0]['label']\n",
    "    df.at[index, 'confidence'] = result[0]['score']"
   ]
  },
  {
   "cell_type": "code",
   "execution_count": 19,
   "metadata": {},
   "outputs": [
    {
     "data": {
      "text/html": [
       "<div>\n",
       "<style scoped>\n",
       "    .dataframe tbody tr th:only-of-type {\n",
       "        vertical-align: middle;\n",
       "    }\n",
       "\n",
       "    .dataframe tbody tr th {\n",
       "        vertical-align: top;\n",
       "    }\n",
       "\n",
       "    .dataframe thead th {\n",
       "        text-align: right;\n",
       "    }\n",
       "</style>\n",
       "<table border=\"1\" class=\"dataframe\">\n",
       "  <thead>\n",
       "    <tr style=\"text-align: right;\">\n",
       "      <th></th>\n",
       "      <th>Player Bio</th>\n",
       "      <th>Player Grades</th>\n",
       "      <th>Player</th>\n",
       "      <th>Link</th>\n",
       "      <th>sentiment</th>\n",
       "      <th>confidence</th>\n",
       "    </tr>\n",
       "  </thead>\n",
       "  <tbody>\n",
       "    <tr>\n",
       "      <th>0</th>\n",
       "      <td>A physical specimen with a rare size-speed com...</td>\n",
       "      <td>7.50</td>\n",
       "      <td>Jadeveon Clowney</td>\n",
       "      <td>https://www.nfl.com/prospects/jadeveon-clowney...</td>\n",
       "      <td>4 stars</td>\n",
       "      <td>0.459664</td>\n",
       "    </tr>\n",
       "    <tr>\n",
       "      <th>1</th>\n",
       "      <td>A legitimate No. 1-caliber receiver who steppe...</td>\n",
       "      <td>7.10</td>\n",
       "      <td>Sammy Watkins</td>\n",
       "      <td>https://www.nfl.com/prospects/sammy-watkins/32...</td>\n",
       "      <td>5 stars</td>\n",
       "      <td>0.913931</td>\n",
       "    </tr>\n",
       "    <tr>\n",
       "      <th>2</th>\n",
       "      <td>A highly disruptive, athletic specimen with th...</td>\n",
       "      <td>7.00</td>\n",
       "      <td>Anthony Barr</td>\n",
       "      <td>https://www.nfl.com/prospects/anthony-barr/320...</td>\n",
       "      <td>5 stars</td>\n",
       "      <td>0.474321</td>\n",
       "    </tr>\n",
       "    <tr>\n",
       "      <th>3</th>\n",
       "      <td>A havoc-wreaking rush linebacker with the burs...</td>\n",
       "      <td>7.00</td>\n",
       "      <td>Khalil Mack</td>\n",
       "      <td>https://www.nfl.com/prospects/khalil-mack/3200...</td>\n",
       "      <td>4 stars</td>\n",
       "      <td>0.381666</td>\n",
       "    </tr>\n",
       "    <tr>\n",
       "      <th>4</th>\n",
       "      <td>Smart, tough, versatile franchise left tackle ...</td>\n",
       "      <td>7.00</td>\n",
       "      <td>Jake Matthews</td>\n",
       "      <td>https://www.nfl.com/prospects/jake-matthews/32...</td>\n",
       "      <td>5 stars</td>\n",
       "      <td>0.719067</td>\n",
       "    </tr>\n",
       "    <tr>\n",
       "      <th>...</th>\n",
       "      <td>...</td>\n",
       "      <td>...</td>\n",
       "      <td>...</td>\n",
       "      <td>...</td>\n",
       "      <td>...</td>\n",
       "      <td>...</td>\n",
       "    </tr>\n",
       "    <tr>\n",
       "      <th>3964</th>\n",
       "      <td>Webb is a Florida product but helped Stevenson...</td>\n",
       "      <td>5.50</td>\n",
       "      <td>Jeremy Webb</td>\n",
       "      <td>https://www.nfl.com/prospects/jeremy-webb/3200...</td>\n",
       "      <td>3 stars</td>\n",
       "      <td>0.282196</td>\n",
       "    </tr>\n",
       "    <tr>\n",
       "      <th>3965</th>\n",
       "      <td>Russ is the son of Craig Yeast, who was the SE...</td>\n",
       "      <td>5.50</td>\n",
       "      <td>Russ Yeast</td>\n",
       "      <td>https://www.nfl.com/prospects/russ-yeast/32005...</td>\n",
       "      <td>4 stars</td>\n",
       "      <td>0.446288</td>\n",
       "    </tr>\n",
       "    <tr>\n",
       "      <th>3966</th>\n",
       "      <td>Marks was known as \"Grandpa\" on the field as a...</td>\n",
       "      <td>5.49</td>\n",
       "      <td>Ken Marks</td>\n",
       "      <td>https://www.nfl.com/prospects/ken-marks/32004d...</td>\n",
       "      <td>4 stars</td>\n",
       "      <td>0.274475</td>\n",
       "    </tr>\n",
       "    <tr>\n",
       "      <th>3967</th>\n",
       "      <td>Wynn was coached by former Georgia and NFL run...</td>\n",
       "      <td>5.46</td>\n",
       "      <td>Devin Wynn</td>\n",
       "      <td>https://www.nfl.com/prospects/devin-wynn/32005...</td>\n",
       "      <td>4 stars</td>\n",
       "      <td>0.394619</td>\n",
       "    </tr>\n",
       "    <tr>\n",
       "      <th>3968</th>\n",
       "      <td>Moala signed with Indiana State and then-head ...</td>\n",
       "      <td>5.40</td>\n",
       "      <td>Inoke Moala</td>\n",
       "      <td>https://www.nfl.com/prospects/inoke-moala/3200...</td>\n",
       "      <td>4 stars</td>\n",
       "      <td>0.351622</td>\n",
       "    </tr>\n",
       "  </tbody>\n",
       "</table>\n",
       "<p>3969 rows × 6 columns</p>\n",
       "</div>"
      ],
      "text/plain": [
       "                                             Player Bio  Player Grades  \\\n",
       "0     A physical specimen with a rare size-speed com...           7.50   \n",
       "1     A legitimate No. 1-caliber receiver who steppe...           7.10   \n",
       "2     A highly disruptive, athletic specimen with th...           7.00   \n",
       "3     A havoc-wreaking rush linebacker with the burs...           7.00   \n",
       "4     Smart, tough, versatile franchise left tackle ...           7.00   \n",
       "...                                                 ...            ...   \n",
       "3964  Webb is a Florida product but helped Stevenson...           5.50   \n",
       "3965  Russ is the son of Craig Yeast, who was the SE...           5.50   \n",
       "3966  Marks was known as \"Grandpa\" on the field as a...           5.49   \n",
       "3967  Wynn was coached by former Georgia and NFL run...           5.46   \n",
       "3968  Moala signed with Indiana State and then-head ...           5.40   \n",
       "\n",
       "                Player                                               Link  \\\n",
       "0     Jadeveon Clowney  https://www.nfl.com/prospects/jadeveon-clowney...   \n",
       "1        Sammy Watkins  https://www.nfl.com/prospects/sammy-watkins/32...   \n",
       "2         Anthony Barr  https://www.nfl.com/prospects/anthony-barr/320...   \n",
       "3          Khalil Mack  https://www.nfl.com/prospects/khalil-mack/3200...   \n",
       "4        Jake Matthews  https://www.nfl.com/prospects/jake-matthews/32...   \n",
       "...                ...                                                ...   \n",
       "3964       Jeremy Webb  https://www.nfl.com/prospects/jeremy-webb/3200...   \n",
       "3965        Russ Yeast  https://www.nfl.com/prospects/russ-yeast/32005...   \n",
       "3966         Ken Marks  https://www.nfl.com/prospects/ken-marks/32004d...   \n",
       "3967        Devin Wynn  https://www.nfl.com/prospects/devin-wynn/32005...   \n",
       "3968       Inoke Moala  https://www.nfl.com/prospects/inoke-moala/3200...   \n",
       "\n",
       "     sentiment confidence  \n",
       "0      4 stars   0.459664  \n",
       "1      5 stars   0.913931  \n",
       "2      5 stars   0.474321  \n",
       "3      4 stars   0.381666  \n",
       "4      5 stars   0.719067  \n",
       "...        ...        ...  \n",
       "3964   3 stars   0.282196  \n",
       "3965   4 stars   0.446288  \n",
       "3966   4 stars   0.274475  \n",
       "3967   4 stars   0.394619  \n",
       "3968   4 stars   0.351622  \n",
       "\n",
       "[3969 rows x 6 columns]"
      ]
     },
     "execution_count": 19,
     "metadata": {},
     "output_type": "execute_result"
    }
   ],
   "source": [
    "df"
   ]
  },
  {
   "cell_type": "code",
   "execution_count": null,
   "metadata": {},
   "outputs": [],
   "source": []
  }
 ],
 "metadata": {
  "kernelspec": {
   "display_name": "Python 3",
   "language": "python",
   "name": "python3"
  },
  "language_info": {
   "codemirror_mode": {
    "name": "ipython",
    "version": 3
   },
   "file_extension": ".py",
   "mimetype": "text/x-python",
   "name": "python",
   "nbconvert_exporter": "python",
   "pygments_lexer": "ipython3",
   "version": "3.8.16"
  },
  "orig_nbformat": 4,
  "vscode": {
   "interpreter": {
    "hash": "949777d72b0d2535278d3dc13498b2535136f6dfe0678499012e853ee9abcab1"
   }
  }
 },
 "nbformat": 4,
 "nbformat_minor": 2
}
