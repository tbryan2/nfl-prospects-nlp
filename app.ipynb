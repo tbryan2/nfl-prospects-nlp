{
 "cells": [
  {
   "cell_type": "code",
   "execution_count": 1,
   "metadata": {},
   "outputs": [
    {
     "ename": "ModuleNotFoundError",
     "evalue": "No module named 'pkg_resources'",
     "output_type": "error",
     "traceback": [
      "\u001b[0;31m---------------------------------------------------------------------------\u001b[0m",
      "\u001b[0;31mModuleNotFoundError\u001b[0m                       Traceback (most recent call last)",
      "Cell \u001b[0;32mIn[1], line 2\u001b[0m\n\u001b[1;32m      1\u001b[0m \u001b[39m# Dependencies\u001b[39;00m\n\u001b[0;32m----> 2\u001b[0m \u001b[39mimport\u001b[39;00m \u001b[39mgradio\u001b[39;00m \u001b[39mas\u001b[39;00m \u001b[39mgr\u001b[39;00m\n",
      "File \u001b[0;32m~/.local/lib/python3.9/site-packages/gradio/__init__.py:3\u001b[0m\n\u001b[1;32m      1\u001b[0m \u001b[39mimport\u001b[39;00m \u001b[39mpkgutil\u001b[39;00m\n\u001b[0;32m----> 3\u001b[0m \u001b[39mimport\u001b[39;00m \u001b[39mgradio\u001b[39;00m\u001b[39m.\u001b[39;00m\u001b[39mcomponents\u001b[39;00m \u001b[39mas\u001b[39;00m \u001b[39mcomponents\u001b[39;00m\n\u001b[1;32m      4\u001b[0m \u001b[39mimport\u001b[39;00m \u001b[39mgradio\u001b[39;00m\u001b[39m.\u001b[39;00m\u001b[39minputs\u001b[39;00m \u001b[39mas\u001b[39;00m \u001b[39minputs\u001b[39;00m\n\u001b[1;32m      5\u001b[0m \u001b[39mimport\u001b[39;00m \u001b[39mgradio\u001b[39;00m\u001b[39m.\u001b[39;00m\u001b[39moutputs\u001b[39;00m \u001b[39mas\u001b[39;00m \u001b[39moutputs\u001b[39;00m\n",
      "File \u001b[0;32m~/.local/lib/python3.9/site-packages/gradio/components.py:53\u001b[0m\n\u001b[1;32m     50\u001b[0m \u001b[39mfrom\u001b[39;00m \u001b[39mtyping_extensions\u001b[39;00m \u001b[39mimport\u001b[39;00m Literal\n\u001b[1;32m     52\u001b[0m \u001b[39mfrom\u001b[39;00m \u001b[39mgradio\u001b[39;00m \u001b[39mimport\u001b[39;00m media_data, processing_utils, utils\n\u001b[0;32m---> 53\u001b[0m \u001b[39mfrom\u001b[39;00m \u001b[39mgradio\u001b[39;00m\u001b[39m.\u001b[39;00m\u001b[39mblocks\u001b[39;00m \u001b[39mimport\u001b[39;00m Block, BlockContext\n\u001b[1;32m     54\u001b[0m \u001b[39mfrom\u001b[39;00m \u001b[39mgradio\u001b[39;00m\u001b[39m.\u001b[39;00m\u001b[39mevents\u001b[39;00m \u001b[39mimport\u001b[39;00m (\n\u001b[1;32m     55\u001b[0m     Blurrable,\n\u001b[1;32m     56\u001b[0m     Changeable,\n\u001b[0;32m   (...)\u001b[0m\n\u001b[1;32m     67\u001b[0m     Uploadable,\n\u001b[1;32m     68\u001b[0m )\n\u001b[1;32m     69\u001b[0m \u001b[39mfrom\u001b[39;00m \u001b[39mgradio\u001b[39;00m\u001b[39m.\u001b[39;00m\u001b[39minterpretation\u001b[39;00m \u001b[39mimport\u001b[39;00m NeighborInterpretable, TokenInterpretable\n",
      "File \u001b[0;32m~/.local/lib/python3.9/site-packages/gradio/blocks.py:25\u001b[0m\n\u001b[1;32m     22\u001b[0m \u001b[39mfrom\u001b[39;00m \u001b[39mgradio_client\u001b[39;00m\u001b[39m.\u001b[39;00m\u001b[39mdocumentation\u001b[39;00m \u001b[39mimport\u001b[39;00m document, set_documentation_group\n\u001b[1;32m     23\u001b[0m \u001b[39mfrom\u001b[39;00m \u001b[39mtyping_extensions\u001b[39;00m \u001b[39mimport\u001b[39;00m Literal\n\u001b[0;32m---> 25\u001b[0m \u001b[39mfrom\u001b[39;00m \u001b[39mgradio\u001b[39;00m \u001b[39mimport\u001b[39;00m (\n\u001b[1;32m     26\u001b[0m     components,\n\u001b[1;32m     27\u001b[0m     external,\n\u001b[1;32m     28\u001b[0m     networking,\n\u001b[1;32m     29\u001b[0m     queueing,\n\u001b[1;32m     30\u001b[0m     routes,\n\u001b[1;32m     31\u001b[0m     strings,\n\u001b[1;32m     32\u001b[0m     themes,\n\u001b[1;32m     33\u001b[0m     utils,\n\u001b[1;32m     34\u001b[0m )\n\u001b[1;32m     35\u001b[0m \u001b[39mfrom\u001b[39;00m \u001b[39mgradio\u001b[39;00m\u001b[39m.\u001b[39;00m\u001b[39mcontext\u001b[39;00m \u001b[39mimport\u001b[39;00m Context\n\u001b[1;32m     36\u001b[0m \u001b[39mfrom\u001b[39;00m \u001b[39mgradio\u001b[39;00m\u001b[39m.\u001b[39;00m\u001b[39mdeprecation\u001b[39;00m \u001b[39mimport\u001b[39;00m check_deprecated_parameters\n",
      "File \u001b[0;32m~/.local/lib/python3.9/site-packages/gradio/networking.py:17\u001b[0m\n\u001b[1;32m     14\u001b[0m \u001b[39mimport\u001b[39;00m \u001b[39mrequests\u001b[39;00m\n\u001b[1;32m     15\u001b[0m \u001b[39mimport\u001b[39;00m \u001b[39muvicorn\u001b[39;00m\n\u001b[0;32m---> 17\u001b[0m \u001b[39mfrom\u001b[39;00m \u001b[39mgradio\u001b[39;00m\u001b[39m.\u001b[39;00m\u001b[39mroutes\u001b[39;00m \u001b[39mimport\u001b[39;00m App\n\u001b[1;32m     18\u001b[0m \u001b[39mfrom\u001b[39;00m \u001b[39mgradio\u001b[39;00m\u001b[39m.\u001b[39;00m\u001b[39mtunneling\u001b[39;00m \u001b[39mimport\u001b[39;00m Tunnel\n\u001b[1;32m     20\u001b[0m \u001b[39mif\u001b[39;00m TYPE_CHECKING:  \u001b[39m# Only import for type checking (to avoid circular imports).\u001b[39;00m\n",
      "File \u001b[0;32m~/.local/lib/python3.9/site-packages/gradio/routes.py:25\u001b[0m\n\u001b[1;32m     23\u001b[0m \u001b[39mimport\u001b[39;00m \u001b[39mmarkupsafe\u001b[39;00m\n\u001b[1;32m     24\u001b[0m \u001b[39mimport\u001b[39;00m \u001b[39morjson\u001b[39;00m\n\u001b[0;32m---> 25\u001b[0m \u001b[39mimport\u001b[39;00m \u001b[39mpkg_resources\u001b[39;00m\n\u001b[1;32m     26\u001b[0m \u001b[39mfrom\u001b[39;00m \u001b[39mfastapi\u001b[39;00m \u001b[39mimport\u001b[39;00m Depends, FastAPI, File, HTTPException, UploadFile, WebSocket, status\n\u001b[1;32m     27\u001b[0m \u001b[39mfrom\u001b[39;00m \u001b[39mfastapi\u001b[39;00m\u001b[39m.\u001b[39;00m\u001b[39mmiddleware\u001b[39;00m\u001b[39m.\u001b[39;00m\u001b[39mcors\u001b[39;00m \u001b[39mimport\u001b[39;00m CORSMiddleware\n",
      "\u001b[0;31mModuleNotFoundError\u001b[0m: No module named 'pkg_resources'"
     ]
    }
   ],
   "source": [
    "# Dependencies\n",
    "import gradio as gr"
   ]
  },
  {
   "cell_type": "code",
   "execution_count": null,
   "metadata": {},
   "outputs": [],
   "source": []
  }
 ],
 "metadata": {
  "kernelspec": {
   "display_name": "Python 3",
   "language": "python",
   "name": "python3"
  },
  "language_info": {
   "codemirror_mode": {
    "name": "ipython",
    "version": 3
   },
   "file_extension": ".py",
   "mimetype": "text/x-python",
   "name": "python",
   "nbconvert_exporter": "python",
   "pygments_lexer": "ipython3",
   "version": "3.9.2"
  },
  "orig_nbformat": 4
 },
 "nbformat": 4,
 "nbformat_minor": 2
}
