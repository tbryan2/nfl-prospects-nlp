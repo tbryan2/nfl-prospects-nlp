{
 "cells": [
  {
   "cell_type": "code",
   "execution_count": 1,
   "metadata": {},
   "outputs": [],
   "source": [
    "import pandas as pd"
   ]
  },
  {
   "cell_type": "code",
   "execution_count": 2,
   "metadata": {},
   "outputs": [],
   "source": [
    "# Load the data\n",
    "data = pd.read_csv('data/dataset.csv')"
   ]
  },
  {
   "cell_type": "code",
   "execution_count": 8,
   "metadata": {},
   "outputs": [],
   "source": [
    "from langchain.document_loaders import DataFrameLoader"
   ]
  },
  {
   "cell_type": "code",
   "execution_count": 9,
   "metadata": {},
   "outputs": [],
   "source": [
    "loader = DataFrameLoader(data, page_content_column=\"Player Bio\")"
   ]
  },
  {
   "cell_type": "code",
   "execution_count": 10,
   "metadata": {},
   "outputs": [],
   "source": [
    "data = loader.load()"
   ]
  },
  {
   "cell_type": "code",
   "execution_count": 2,
   "metadata": {},
   "outputs": [],
   "source": [
    "from langchain.vectorstores import Pinecone\n",
    "from langchain.embeddings.openai import OpenAIEmbeddings\n",
    "import pinecone\n",
    "from config import openai_api_key, pinecone_api_key"
   ]
  },
  {
   "cell_type": "code",
   "execution_count": 3,
   "metadata": {},
   "outputs": [],
   "source": [
    "OPENAI_API_KEY = openai_api_key\n",
    "PINECONE_API_KEY = pinecone_api_key"
   ]
  },
  {
   "cell_type": "code",
   "execution_count": 11,
   "metadata": {},
   "outputs": [],
   "source": [
    "embeddings = OpenAIEmbeddings(openai_api_key=OPENAI_API_KEY)"
   ]
  },
  {
   "cell_type": "code",
   "execution_count": 4,
   "metadata": {},
   "outputs": [],
   "source": [
    "pinecone.init(\n",
    "    api_key=PINECONE_API_KEY,\n",
    "    environment=\"northamerica-northeast1-gcp\"\n",
    ")\n",
    "index_name = \"nfl-prospects-1\""
   ]
  },
  {
   "cell_type": "code",
   "execution_count": 12,
   "metadata": {},
   "outputs": [
    {
     "ename": "TypeError",
     "evalue": "from_texts() missing 1 required positional argument: 'embedding'",
     "output_type": "error",
     "traceback": [
      "\u001b[0;31m---------------------------------------------------------------------------\u001b[0m",
      "\u001b[0;31mTypeError\u001b[0m                                 Traceback (most recent call last)",
      "Cell \u001b[0;32mIn[12], line 1\u001b[0m\n\u001b[0;32m----> 1\u001b[0m docsearch \u001b[39m=\u001b[39m Pinecone\u001b[39m.\u001b[39;49mfrom_texts(embeddings, index_name\u001b[39m=\u001b[39;49mindex_name)\n",
      "\u001b[0;31mTypeError\u001b[0m: from_texts() missing 1 required positional argument: 'embedding'"
     ]
    }
   ],
   "source": [
    "docsearch = Pinecone.from_texts(embeddings, index_name=index_name)"
   ]
  },
  {
   "cell_type": "code",
   "execution_count": 31,
   "metadata": {},
   "outputs": [],
   "source": [
    "query = \"Did Bradley Chubb's dad play in the NFL?\"\n",
    "docs  = docsearch.similarity_search(query, include_metadata=True)"
   ]
  },
  {
   "cell_type": "code",
   "execution_count": 32,
   "metadata": {},
   "outputs": [
    {
     "data": {
      "text/plain": [
       "[Document(page_content='Bradley Chubb', metadata={}),\n",
       " Document(page_content='Chase Young', metadata={}),\n",
       " Document(page_content='DeForest Buckner', metadata={}),\n",
       " Document(page_content='Jadeveon Clowney', metadata={})]"
      ]
     },
     "execution_count": 32,
     "metadata": {},
     "output_type": "execute_result"
    }
   ],
   "source": [
    "docs"
   ]
  },
  {
   "cell_type": "code",
   "execution_count": 93,
   "metadata": {},
   "outputs": [],
   "source": [
    "from langchain.llms import OpenAI\n",
    "from langchain.chains.question_answering import load_qa_chain"
   ]
  },
  {
   "cell_type": "code",
   "execution_count": 94,
   "metadata": {},
   "outputs": [],
   "source": [
    "llm = OpenAI(temperature=0, openai_api_key=OPENAI_API_KEY)\n",
    "chain = load_qa_chain(llm, chain_type=\"stuff\")"
   ]
  },
  {
   "cell_type": "code",
   "execution_count": 100,
   "metadata": {},
   "outputs": [],
   "source": [
    "query = \"Tell me about Justin Fields, would you recommend drafting him?\"\n",
    "docs  = docsearch.similarity_search(query, include_metadata=True)"
   ]
  },
  {
   "cell_type": "code",
   "execution_count": 101,
   "metadata": {},
   "outputs": [
    {
     "data": {
      "text/plain": [
       "' Justin Fields is a pure dropback, strong-armed thrower who has starter talent in a vertical, downfield passing attack. He burst onto the scene as a junior-college transfer in 2012 and has clear starting-caliber traits. He has won Heisman Trophy finalist, second-team Associated Press All-American and Big Ten Offensive Player of the Year honors and has finished the year ranked sixth in the country in completion percentage. He will require patient, confidence-building play-calling and a clean pocket to function at a high level in the NFL, and how he interviews with teams could go a long way toward determining his draft status. I would recommend drafting Justin Fields as he has the potential to be a quality starter in the NFL.'"
      ]
     },
     "execution_count": 101,
     "metadata": {},
     "output_type": "execute_result"
    }
   ],
   "source": [
    "chain.run(input_documents=docs, question=query)"
   ]
  },
  {
   "cell_type": "code",
   "execution_count": 102,
   "metadata": {},
   "outputs": [
    {
     "data": {
      "text/plain": [
       "[Document(page_content='Pure dropback, strong-armed thrower who will require patient, confidence-building play-calling and a clean pocket to function at a high level in the NFL. Has starter talent in a vertical, downfield passing attack if he can learn to take command of a huddle and continue progressing as a decision-maker. How he interviews with teams could go a long way toward determining his draft status.', metadata={}),\n",
       " Document(page_content='Burst onto the scene as a junior-college transfer in 2012 when he led the nation in completion percentage (72.5), executing a quarterback-friendly system and putting himself on the NFL radar. Concerns about his height and arm strength will limit his appeal, but at worst should be a quality backup in a precision-matchup system.', metadata={}),\n",
       " Document(page_content='Will tease evaluators with his arm and athletic talent, but has yet to prove he can throw with the precision needed to sustain a starting job in the pros. Has clear starting-caliber traits, but is still learning what it takes to direct an offense and make good decisions and is still very much a work in progress. Has talent worth molding in a backup role and will pique the interest of QB coaches who work him out in the spring and view his raw tools. Will require a strong offensive line and a full supporting cast of weapons to function in a starting role.', metadata={}),\n",
       " Document(page_content=\"Fields was Mr. Football in Georgia as a senior at Harrison High School, so it was natural for him to accept UGA's offer as one of the top recruits in the country. He appeared in 12 games as a true freshman, playing behind Jake Fromm (27-of-39, 69.2%, 328 yards, four TDs passing; 42-266-6.3, four TDs rushing) and earning a spot on the SEC All-Freshman Team. He decided to move on to Ohio State in January 2019, as Fromm was expected to start again that year. Fields was granted a waiver from the NCAA that allowed him to play immediately for the Buckeyes. He earned Heisman Trophy finalist, second-team Associated Press All-American and Big Ten Offensive Player of the Year honors as a sophomore, ranking third in the country in touchdown throws (41, against just three interceptions) and fourth in passing efficiency rating (181.4) in 14 starts. He was named MVP of the Big Ten Championship Game after throwing for 299 yards and three TDs in a win over Wisconsin before losing to Clemson in the national semifinals. Fields was quite familiar with Tigers quarterback Trevor Lawrence as they grew up 20 miles apart in Georgia and were considered the top two prospects in the 2018 recruiting class. Fields took Ohio State a step closer to a national title in 2020, winning Big Ten Offensive Player of the Year for the second straight season. He finished the year ranked sixth in the country in completion percentage (158-of-225, 70.2%, 2,100 yards, 22 TDs, six INTs passing) and rushed for five scores (81-383-4.7) in eight starts. His postseason efforts as a passer were up and down. He struggled against Northwestern in the team's Big Ten Championship Game victory (12-of-27, 44.4%, 114 yards, 2 INTs), bounced back while playing through injury in the semifinal win over Clemson (22-of-28, 78.6%, 385 yards, six TDs, one INT), and then came up short against Alabama in the title game (17-of-33, 51.5%, 194 yards, one TD). Fields' father, Ivant, played football at Eastern Kentucky. -- by Chad Reuter\", metadata={})]"
      ]
     },
     "execution_count": 102,
     "metadata": {},
     "output_type": "execute_result"
    }
   ],
   "source": [
    "docs"
   ]
  },
  {
   "cell_type": "code",
   "execution_count": 17,
   "metadata": {},
   "outputs": [],
   "source": [
    "from langchain.retrievers import PineconeHybridSearchRetriever\n"
   ]
  },
  {
   "cell_type": "code",
   "execution_count": 13,
   "metadata": {},
   "outputs": [],
   "source": [
    "index = pinecone.Index(index_name)"
   ]
  },
  {
   "cell_type": "code",
   "execution_count": 14,
   "metadata": {},
   "outputs": [],
   "source": [
    "from transformers import BertTokenizerFast"
   ]
  },
  {
   "cell_type": "code",
   "execution_count": 15,
   "metadata": {},
   "outputs": [
    {
     "data": {
      "application/vnd.jupyter.widget-view+json": {
       "model_id": "40edfc4da27341c6b5107ff8150ed8bf",
       "version_major": 2,
       "version_minor": 0
      },
      "text/plain": [
       "Downloading (…)okenizer_config.json:   0%|          | 0.00/28.0 [00:00<?, ?B/s]"
      ]
     },
     "metadata": {},
     "output_type": "display_data"
    },
    {
     "data": {
      "application/vnd.jupyter.widget-view+json": {
       "model_id": "159fc319a8154cf7a7bb2306dbaf2d91",
       "version_major": 2,
       "version_minor": 0
      },
      "text/plain": [
       "Downloading (…)solve/main/vocab.txt:   0%|          | 0.00/232k [00:00<?, ?B/s]"
      ]
     },
     "metadata": {},
     "output_type": "display_data"
    },
    {
     "data": {
      "application/vnd.jupyter.widget-view+json": {
       "model_id": "1718c7826cae4ab28802411fd50aaf97",
       "version_major": 2,
       "version_minor": 0
      },
      "text/plain": [
       "Downloading (…)/main/tokenizer.json:   0%|          | 0.00/466k [00:00<?, ?B/s]"
      ]
     },
     "metadata": {},
     "output_type": "display_data"
    },
    {
     "data": {
      "application/vnd.jupyter.widget-view+json": {
       "model_id": "80c969ac44814978ac0218b5cb3f1b4a",
       "version_major": 2,
       "version_minor": 0
      },
      "text/plain": [
       "Downloading (…)lve/main/config.json:   0%|          | 0.00/570 [00:00<?, ?B/s]"
      ]
     },
     "metadata": {},
     "output_type": "display_data"
    }
   ],
   "source": [
    "tokenizer = BertTokenizerFast.from_pretrained(\n",
    "    'bert-base-uncased'\n",
    ")\n"
   ]
  },
  {
   "cell_type": "code",
   "execution_count": 18,
   "metadata": {},
   "outputs": [],
   "source": [
    "retriever = PineconeHybridSearchRetriever(\n",
    "    embeddings=embeddings, index=index, tokenizer=tokenizer)"
   ]
  },
  {
   "cell_type": "code",
   "execution_count": 11,
   "metadata": {},
   "outputs": [
    {
     "name": "stdout",
     "output_type": "stream",
     "text": [
      "\n"
     ]
    }
   ],
   "source": [
    "import pandas as pd\n",
    "from splinter import Browser\n",
    "from bs4 import BeautifulSoup as bs\n",
    "from webdriver_manager.chrome import ChromeDriverManager\n",
    "import requests\n",
    "import time\n",
    "\n",
    "\n",
    "# Set up Splinter\n",
    "executable_path = {'executable_path': ChromeDriverManager().install()}\n",
    "browser = Browser('chrome', **executable_path, headless=False)"
   ]
  },
  {
   "cell_type": "code",
   "execution_count": 12,
   "metadata": {},
   "outputs": [],
   "source": [
    "url = \"https://www.nfl.com/prospects/jake-witt/32005749-5436-4970-1de4-f50308ff2d91\"\n",
    "browser.visit(url)\n",
    "time.sleep(5)\n",
    "html = browser.html\n",
    "soup = bs(html, 'html.parser')\n",
    "player_bio_div = soup.find('div', class_='css-k9c8dc')\n",
    "if player_bio_div:\n",
    "    for idx, child in enumerate(player_bio_div.children):\n",
    "        if idx == 1:  # Player bio (second child)\n",
    "            player_bio = child.strip()\n"
   ]
  },
  {
   "cell_type": "code",
   "execution_count": 13,
   "metadata": {},
   "outputs": [
    {
     "data": {
      "text/plain": [
       "'Witt’s athletic testing was off the charts and it helps that teams recognize he is still filling out his long frame. The tight end convert has only been at the tackle position for one full season, so teams understand he’s going to be behind from an instinct and technique standpoint. He’ll need to make progress as a Year 1 practice squad candidate for teams to continue the investment. He’s nowhere near ready to play pro football, but he will be a coveted free agent if he goes undrafted given his traits and athleticism.'"
      ]
     },
     "execution_count": 13,
     "metadata": {},
     "output_type": "execute_result"
    }
   ],
   "source": [
    "player_bio"
   ]
  },
  {
   "cell_type": "code",
   "execution_count": null,
   "metadata": {},
   "outputs": [],
   "source": []
  }
 ],
 "metadata": {
  "kernelspec": {
   "display_name": "base",
   "language": "python",
   "name": "python3"
  },
  "language_info": {
   "codemirror_mode": {
    "name": "ipython",
    "version": 3
   },
   "file_extension": ".py",
   "mimetype": "text/x-python",
   "name": "python",
   "nbconvert_exporter": "python",
   "pygments_lexer": "ipython3",
   "version": "3.9.7"
  },
  "orig_nbformat": 4
 },
 "nbformat": 4,
 "nbformat_minor": 2
}
