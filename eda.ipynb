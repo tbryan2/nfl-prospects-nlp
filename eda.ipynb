{
 "cells": [
  {
   "attachments": {},
   "cell_type": "markdown",
   "metadata": {},
   "source": [
    "# NLP Analysis of NFL Prospect Reports"
   ]
  },
  {
   "cell_type": "code",
   "execution_count": 20,
   "metadata": {},
   "outputs": [],
   "source": [
    "# Basic Dependencies\n",
    "import pandas as pd\n",
    "import numpy as np\n",
    "import matplotlib.pyplot as plt\n",
    "import seaborn as sns\n",
    "\n",
    "# Import hugging face transformers\n",
    "from transformers import BertTokenizer, BertModel, BertForMaskedLM\n",
    "from transformers import pipeline"
   ]
  },
  {
   "cell_type": "code",
   "execution_count": 21,
   "metadata": {},
   "outputs": [
    {
     "data": {
      "text/html": [
       "<div>\n",
       "<style scoped>\n",
       "    .dataframe tbody tr th:only-of-type {\n",
       "        vertical-align: middle;\n",
       "    }\n",
       "\n",
       "    .dataframe tbody tr th {\n",
       "        vertical-align: top;\n",
       "    }\n",
       "\n",
       "    .dataframe thead th {\n",
       "        text-align: right;\n",
       "    }\n",
       "</style>\n",
       "<table border=\"1\" class=\"dataframe\">\n",
       "  <thead>\n",
       "    <tr style=\"text-align: right;\">\n",
       "      <th></th>\n",
       "      <th>Player Bio</th>\n",
       "      <th>Player Grades</th>\n",
       "      <th>Player</th>\n",
       "      <th>Link</th>\n",
       "    </tr>\n",
       "  </thead>\n",
       "  <tbody>\n",
       "    <tr>\n",
       "      <th>0</th>\n",
       "      <td>A physical specimen with a rare size-speed com...</td>\n",
       "      <td>7.50</td>\n",
       "      <td>Jadeveon Clowney</td>\n",
       "      <td>https://www.nfl.com/prospects/jadeveon-clowney...</td>\n",
       "    </tr>\n",
       "    <tr>\n",
       "      <th>1</th>\n",
       "      <td>A legitimate No. 1-caliber receiver who steppe...</td>\n",
       "      <td>7.10</td>\n",
       "      <td>Sammy Watkins</td>\n",
       "      <td>https://www.nfl.com/prospects/sammy-watkins/32...</td>\n",
       "    </tr>\n",
       "    <tr>\n",
       "      <th>2</th>\n",
       "      <td>A highly disruptive, athletic specimen with th...</td>\n",
       "      <td>7.00</td>\n",
       "      <td>Anthony Barr</td>\n",
       "      <td>https://www.nfl.com/prospects/anthony-barr/320...</td>\n",
       "    </tr>\n",
       "    <tr>\n",
       "      <th>3</th>\n",
       "      <td>A havoc-wreaking rush linebacker with the burs...</td>\n",
       "      <td>7.00</td>\n",
       "      <td>Khalil Mack</td>\n",
       "      <td>https://www.nfl.com/prospects/khalil-mack/3200...</td>\n",
       "    </tr>\n",
       "    <tr>\n",
       "      <th>4</th>\n",
       "      <td>Smart, tough, versatile franchise left tackle ...</td>\n",
       "      <td>7.00</td>\n",
       "      <td>Jake Matthews</td>\n",
       "      <td>https://www.nfl.com/prospects/jake-matthews/32...</td>\n",
       "    </tr>\n",
       "    <tr>\n",
       "      <th>...</th>\n",
       "      <td>...</td>\n",
       "      <td>...</td>\n",
       "      <td>...</td>\n",
       "      <td>...</td>\n",
       "    </tr>\n",
       "    <tr>\n",
       "      <th>3964</th>\n",
       "      <td>Webb is a Florida product but helped Stevenson...</td>\n",
       "      <td>5.50</td>\n",
       "      <td>Jeremy Webb</td>\n",
       "      <td>https://www.nfl.com/prospects/jeremy-webb/3200...</td>\n",
       "    </tr>\n",
       "    <tr>\n",
       "      <th>3965</th>\n",
       "      <td>Russ is the son of Craig Yeast, who was the SE...</td>\n",
       "      <td>5.50</td>\n",
       "      <td>Russ Yeast</td>\n",
       "      <td>https://www.nfl.com/prospects/russ-yeast/32005...</td>\n",
       "    </tr>\n",
       "    <tr>\n",
       "      <th>3966</th>\n",
       "      <td>Marks was known as \"Grandpa\" on the field as a...</td>\n",
       "      <td>5.49</td>\n",
       "      <td>Ken Marks</td>\n",
       "      <td>https://www.nfl.com/prospects/ken-marks/32004d...</td>\n",
       "    </tr>\n",
       "    <tr>\n",
       "      <th>3967</th>\n",
       "      <td>Wynn was coached by former Georgia and NFL run...</td>\n",
       "      <td>5.46</td>\n",
       "      <td>Devin Wynn</td>\n",
       "      <td>https://www.nfl.com/prospects/devin-wynn/32005...</td>\n",
       "    </tr>\n",
       "    <tr>\n",
       "      <th>3968</th>\n",
       "      <td>Moala signed with Indiana State and then-head ...</td>\n",
       "      <td>5.40</td>\n",
       "      <td>Inoke Moala</td>\n",
       "      <td>https://www.nfl.com/prospects/inoke-moala/3200...</td>\n",
       "    </tr>\n",
       "  </tbody>\n",
       "</table>\n",
       "<p>3969 rows × 4 columns</p>\n",
       "</div>"
      ],
      "text/plain": [
       "                                             Player Bio  Player Grades  \\\n",
       "0     A physical specimen with a rare size-speed com...           7.50   \n",
       "1     A legitimate No. 1-caliber receiver who steppe...           7.10   \n",
       "2     A highly disruptive, athletic specimen with th...           7.00   \n",
       "3     A havoc-wreaking rush linebacker with the burs...           7.00   \n",
       "4     Smart, tough, versatile franchise left tackle ...           7.00   \n",
       "...                                                 ...            ...   \n",
       "3964  Webb is a Florida product but helped Stevenson...           5.50   \n",
       "3965  Russ is the son of Craig Yeast, who was the SE...           5.50   \n",
       "3966  Marks was known as \"Grandpa\" on the field as a...           5.49   \n",
       "3967  Wynn was coached by former Georgia and NFL run...           5.46   \n",
       "3968  Moala signed with Indiana State and then-head ...           5.40   \n",
       "\n",
       "                Player                                               Link  \n",
       "0     Jadeveon Clowney  https://www.nfl.com/prospects/jadeveon-clowney...  \n",
       "1        Sammy Watkins  https://www.nfl.com/prospects/sammy-watkins/32...  \n",
       "2         Anthony Barr  https://www.nfl.com/prospects/anthony-barr/320...  \n",
       "3          Khalil Mack  https://www.nfl.com/prospects/khalil-mack/3200...  \n",
       "4        Jake Matthews  https://www.nfl.com/prospects/jake-matthews/32...  \n",
       "...                ...                                                ...  \n",
       "3964       Jeremy Webb  https://www.nfl.com/prospects/jeremy-webb/3200...  \n",
       "3965        Russ Yeast  https://www.nfl.com/prospects/russ-yeast/32005...  \n",
       "3966         Ken Marks  https://www.nfl.com/prospects/ken-marks/32004d...  \n",
       "3967        Devin Wynn  https://www.nfl.com/prospects/devin-wynn/32005...  \n",
       "3968       Inoke Moala  https://www.nfl.com/prospects/inoke-moala/3200...  \n",
       "\n",
       "[3969 rows x 4 columns]"
      ]
     },
     "execution_count": 21,
     "metadata": {},
     "output_type": "execute_result"
    }
   ],
   "source": [
    "# Create a DataFrame from the player_bios.csv file\n",
    "df = pd.read_csv('player_bios.csv')\n",
    "\n",
    "df"
   ]
  },
  {
   "cell_type": "code",
   "execution_count": 23,
   "metadata": {},
   "outputs": [
    {
     "data": {
      "application/vnd.jupyter.widget-view+json": {
       "model_id": "55a4275481534d848e40ca1df9f6f50b",
       "version_major": 2,
       "version_minor": 0
      },
      "text/plain": [
       "Downloading (…)okenizer_config.json:   0%|          | 0.00/256 [00:00<?, ?B/s]"
      ]
     },
     "metadata": {},
     "output_type": "display_data"
    },
    {
     "data": {
      "application/vnd.jupyter.widget-view+json": {
       "model_id": "83dbc24b64dc4f4697437258aff41f0b",
       "version_major": 2,
       "version_minor": 0
      },
      "text/plain": [
       "Downloading (…)olve/main/vocab.json:   0%|          | 0.00/798k [00:00<?, ?B/s]"
      ]
     },
     "metadata": {},
     "output_type": "display_data"
    },
    {
     "data": {
      "application/vnd.jupyter.widget-view+json": {
       "model_id": "24af39390de442a1b3aa9db17581b30c",
       "version_major": 2,
       "version_minor": 0
      },
      "text/plain": [
       "Downloading (…)olve/main/merges.txt:   0%|          | 0.00/456k [00:00<?, ?B/s]"
      ]
     },
     "metadata": {},
     "output_type": "display_data"
    },
    {
     "data": {
      "application/vnd.jupyter.widget-view+json": {
       "model_id": "d2b60483409c4355b3d5937e9542a4dd",
       "version_major": 2,
       "version_minor": 0
      },
      "text/plain": [
       "Downloading (…)cial_tokens_map.json:   0%|          | 0.00/150 [00:00<?, ?B/s]"
      ]
     },
     "metadata": {},
     "output_type": "display_data"
    },
    {
     "name": "stderr",
     "output_type": "stream",
     "text": [
      "Truncation was not explicitly activated but `max_length` is provided a specific value, please use `truncation=True` to explicitly truncate examples to max length. Defaulting to 'longest_first' truncation strategy. If you encode pairs of sequences (GLUE-style) with the tokenizer you can select this strategy more precisely by providing a specific strategy to `truncation`.\n"
     ]
    }
   ],
   "source": [
    "# Create a pipeline to analyze sentiment of player bios with a max length of 512 tokens\n",
    "nlp = pipeline('sentiment-analysis', model='siebert/sentiment-roberta-large-english', max_length=512)\n",
    "\n",
    "# Create a new column in the DataFrame to hold the sentiment analysis and confidence scores\n",
    "df['sentiment'] = None\n",
    "df['confidence'] = None\n",
    "\n",
    "# Loop through the DataFrame and run the sentiment analysis on each player bio (~40 minutes on a CPU)\n",
    "for index, row in df.iterrows():\n",
    "    result = nlp(row['Player Bio'])\n",
    "    df.at[index, 'sentiment'] = result[0]['label']\n",
    "    df.at[index, 'confidence'] = result[0]['score']"
   ]
  },
  {
   "cell_type": "code",
   "execution_count": 24,
   "metadata": {},
   "outputs": [],
   "source": [
    "# Create a new column for adjusted confidence\n",
    "df['adjusted_confidence'] = None\n",
    "\n",
    "# If the sentiment is negative, subtract the confidence score from 1\n",
    "for index, row in df.iterrows():\n",
    "    if row['sentiment'] == 'NEGATIVE':\n",
    "        df.at[index, 'adjusted_confidence'] = 1 - row['confidence']\n",
    "    else:\n",
    "        df.at[index, 'adjusted_confidence'] = row['confidence']"
   ]
  },
  {
   "cell_type": "code",
   "execution_count": 25,
   "metadata": {},
   "outputs": [
    {
     "data": {
      "text/html": [
       "<div>\n",
       "<style scoped>\n",
       "    .dataframe tbody tr th:only-of-type {\n",
       "        vertical-align: middle;\n",
       "    }\n",
       "\n",
       "    .dataframe tbody tr th {\n",
       "        vertical-align: top;\n",
       "    }\n",
       "\n",
       "    .dataframe thead th {\n",
       "        text-align: right;\n",
       "    }\n",
       "</style>\n",
       "<table border=\"1\" class=\"dataframe\">\n",
       "  <thead>\n",
       "    <tr style=\"text-align: right;\">\n",
       "      <th></th>\n",
       "      <th>Player Bio</th>\n",
       "      <th>Player Grades</th>\n",
       "      <th>Player</th>\n",
       "      <th>Link</th>\n",
       "      <th>sentiment</th>\n",
       "      <th>confidence</th>\n",
       "      <th>adjusted_confidence</th>\n",
       "    </tr>\n",
       "  </thead>\n",
       "  <tbody>\n",
       "    <tr>\n",
       "      <th>0</th>\n",
       "      <td>A physical specimen with a rare size-speed com...</td>\n",
       "      <td>7.50</td>\n",
       "      <td>Jadeveon Clowney</td>\n",
       "      <td>https://www.nfl.com/prospects/jadeveon-clowney...</td>\n",
       "      <td>POSITIVE</td>\n",
       "      <td>0.998497</td>\n",
       "      <td>0.998497</td>\n",
       "    </tr>\n",
       "    <tr>\n",
       "      <th>1</th>\n",
       "      <td>A legitimate No. 1-caliber receiver who steppe...</td>\n",
       "      <td>7.10</td>\n",
       "      <td>Sammy Watkins</td>\n",
       "      <td>https://www.nfl.com/prospects/sammy-watkins/32...</td>\n",
       "      <td>POSITIVE</td>\n",
       "      <td>0.998784</td>\n",
       "      <td>0.998784</td>\n",
       "    </tr>\n",
       "    <tr>\n",
       "      <th>2</th>\n",
       "      <td>A highly disruptive, athletic specimen with th...</td>\n",
       "      <td>7.00</td>\n",
       "      <td>Anthony Barr</td>\n",
       "      <td>https://www.nfl.com/prospects/anthony-barr/320...</td>\n",
       "      <td>POSITIVE</td>\n",
       "      <td>0.998658</td>\n",
       "      <td>0.998658</td>\n",
       "    </tr>\n",
       "    <tr>\n",
       "      <th>3</th>\n",
       "      <td>A havoc-wreaking rush linebacker with the burs...</td>\n",
       "      <td>7.00</td>\n",
       "      <td>Khalil Mack</td>\n",
       "      <td>https://www.nfl.com/prospects/khalil-mack/3200...</td>\n",
       "      <td>POSITIVE</td>\n",
       "      <td>0.99885</td>\n",
       "      <td>0.99885</td>\n",
       "    </tr>\n",
       "    <tr>\n",
       "      <th>4</th>\n",
       "      <td>Smart, tough, versatile franchise left tackle ...</td>\n",
       "      <td>7.00</td>\n",
       "      <td>Jake Matthews</td>\n",
       "      <td>https://www.nfl.com/prospects/jake-matthews/32...</td>\n",
       "      <td>POSITIVE</td>\n",
       "      <td>0.998856</td>\n",
       "      <td>0.998856</td>\n",
       "    </tr>\n",
       "    <tr>\n",
       "      <th>...</th>\n",
       "      <td>...</td>\n",
       "      <td>...</td>\n",
       "      <td>...</td>\n",
       "      <td>...</td>\n",
       "      <td>...</td>\n",
       "      <td>...</td>\n",
       "      <td>...</td>\n",
       "    </tr>\n",
       "    <tr>\n",
       "      <th>3964</th>\n",
       "      <td>Webb is a Florida product but helped Stevenson...</td>\n",
       "      <td>5.50</td>\n",
       "      <td>Jeremy Webb</td>\n",
       "      <td>https://www.nfl.com/prospects/jeremy-webb/3200...</td>\n",
       "      <td>NEGATIVE</td>\n",
       "      <td>0.993244</td>\n",
       "      <td>0.006756</td>\n",
       "    </tr>\n",
       "    <tr>\n",
       "      <th>3965</th>\n",
       "      <td>Russ is the son of Craig Yeast, who was the SE...</td>\n",
       "      <td>5.50</td>\n",
       "      <td>Russ Yeast</td>\n",
       "      <td>https://www.nfl.com/prospects/russ-yeast/32005...</td>\n",
       "      <td>POSITIVE</td>\n",
       "      <td>0.998128</td>\n",
       "      <td>0.998128</td>\n",
       "    </tr>\n",
       "    <tr>\n",
       "      <th>3966</th>\n",
       "      <td>Marks was known as \"Grandpa\" on the field as a...</td>\n",
       "      <td>5.49</td>\n",
       "      <td>Ken Marks</td>\n",
       "      <td>https://www.nfl.com/prospects/ken-marks/32004d...</td>\n",
       "      <td>POSITIVE</td>\n",
       "      <td>0.997836</td>\n",
       "      <td>0.997836</td>\n",
       "    </tr>\n",
       "    <tr>\n",
       "      <th>3967</th>\n",
       "      <td>Wynn was coached by former Georgia and NFL run...</td>\n",
       "      <td>5.46</td>\n",
       "      <td>Devin Wynn</td>\n",
       "      <td>https://www.nfl.com/prospects/devin-wynn/32005...</td>\n",
       "      <td>POSITIVE</td>\n",
       "      <td>0.996665</td>\n",
       "      <td>0.996665</td>\n",
       "    </tr>\n",
       "    <tr>\n",
       "      <th>3968</th>\n",
       "      <td>Moala signed with Indiana State and then-head ...</td>\n",
       "      <td>5.40</td>\n",
       "      <td>Inoke Moala</td>\n",
       "      <td>https://www.nfl.com/prospects/inoke-moala/3200...</td>\n",
       "      <td>POSITIVE</td>\n",
       "      <td>0.998499</td>\n",
       "      <td>0.998499</td>\n",
       "    </tr>\n",
       "  </tbody>\n",
       "</table>\n",
       "<p>3969 rows × 7 columns</p>\n",
       "</div>"
      ],
      "text/plain": [
       "                                             Player Bio  Player Grades  \\\n",
       "0     A physical specimen with a rare size-speed com...           7.50   \n",
       "1     A legitimate No. 1-caliber receiver who steppe...           7.10   \n",
       "2     A highly disruptive, athletic specimen with th...           7.00   \n",
       "3     A havoc-wreaking rush linebacker with the burs...           7.00   \n",
       "4     Smart, tough, versatile franchise left tackle ...           7.00   \n",
       "...                                                 ...            ...   \n",
       "3964  Webb is a Florida product but helped Stevenson...           5.50   \n",
       "3965  Russ is the son of Craig Yeast, who was the SE...           5.50   \n",
       "3966  Marks was known as \"Grandpa\" on the field as a...           5.49   \n",
       "3967  Wynn was coached by former Georgia and NFL run...           5.46   \n",
       "3968  Moala signed with Indiana State and then-head ...           5.40   \n",
       "\n",
       "                Player                                               Link  \\\n",
       "0     Jadeveon Clowney  https://www.nfl.com/prospects/jadeveon-clowney...   \n",
       "1        Sammy Watkins  https://www.nfl.com/prospects/sammy-watkins/32...   \n",
       "2         Anthony Barr  https://www.nfl.com/prospects/anthony-barr/320...   \n",
       "3          Khalil Mack  https://www.nfl.com/prospects/khalil-mack/3200...   \n",
       "4        Jake Matthews  https://www.nfl.com/prospects/jake-matthews/32...   \n",
       "...                ...                                                ...   \n",
       "3964       Jeremy Webb  https://www.nfl.com/prospects/jeremy-webb/3200...   \n",
       "3965        Russ Yeast  https://www.nfl.com/prospects/russ-yeast/32005...   \n",
       "3966         Ken Marks  https://www.nfl.com/prospects/ken-marks/32004d...   \n",
       "3967        Devin Wynn  https://www.nfl.com/prospects/devin-wynn/32005...   \n",
       "3968       Inoke Moala  https://www.nfl.com/prospects/inoke-moala/3200...   \n",
       "\n",
       "     sentiment confidence adjusted_confidence  \n",
       "0     POSITIVE   0.998497            0.998497  \n",
       "1     POSITIVE   0.998784            0.998784  \n",
       "2     POSITIVE   0.998658            0.998658  \n",
       "3     POSITIVE    0.99885             0.99885  \n",
       "4     POSITIVE   0.998856            0.998856  \n",
       "...        ...        ...                 ...  \n",
       "3964  NEGATIVE   0.993244            0.006756  \n",
       "3965  POSITIVE   0.998128            0.998128  \n",
       "3966  POSITIVE   0.997836            0.997836  \n",
       "3967  POSITIVE   0.996665            0.996665  \n",
       "3968  POSITIVE   0.998499            0.998499  \n",
       "\n",
       "[3969 rows x 7 columns]"
      ]
     },
     "execution_count": 25,
     "metadata": {},
     "output_type": "execute_result"
    }
   ],
   "source": [
    "df"
   ]
  },
  {
   "cell_type": "code",
   "execution_count": 26,
   "metadata": {},
   "outputs": [],
   "source": [
    "# Create a new column that holds a normal distribution of the player grades\n",
    "df['grade_norm'] = (df['Player Grades'] - df['Player Grades'].mean()) / df['Player Grades'].std()\n",
    "\n",
    "# Create a new column that holds a normal distribution of the adjusted confidence\n",
    "df['confidence_norm'] = (df['adjusted_confidence'] - df['adjusted_confidence'].mean()) / df['adjusted_confidence'].std()"
   ]
  },
  {
   "cell_type": "code",
   "execution_count": 35,
   "metadata": {},
   "outputs": [
    {
     "data": {
      "text/plain": [
       "<Figure size 1000x600 with 0 Axes>"
      ]
     },
     "metadata": {},
     "output_type": "display_data"
    },
    {
     "data": {
      "image/png": "[encoded data removed]",
      "text/plain": [
       "<Figure size 500x500 with 1 Axes>"
      ]
     },
     "metadata": {},
     "output_type": "display_data"
    },
    {
     "data": {
      "text/plain": [
       "<Figure size 640x480 with 0 Axes>"
      ]
     },
     "metadata": {},
     "output_type": "display_data"
    }
   ],
   "source": [
    "# Create a bar chart to show the distribution of the grades\n",
    "\n",
    "# 8 = the perfect prospect, 7.3-7.5 = Perennial All-Pro, 7.0-7.1 = Pro Bowl talent,\n",
    "# 6.7-6.9 = Year 1 Starter, 6.5-6.6 = Boom-or-bust potential, 6.40-6.49 = Will become good starter within two years,\n",
    "# 6.30-6.39 = Will eventually be plus starter, 6.20-6.29 = Will eventually be average started,\n",
    "# 6.10-6.19 = Good back with potential to develop into starter, 6.00-6.09 = traits or talents to be above-average backup,\n",
    "# 5.80-5.99 = average backup or special teamer, 5.60-5.69 = Candidate for bottom of roster or practice squad,\n",
    "# 5.50-5.59 = Priority undrafted free agent\n",
    "\n",
    "plt.figure(figsize=(10, 6))\n",
    "sns.displot(df['Player Grades'], bins=13, kde=False)\n",
    "plt.title('Distribution of Player Grades')\n",
    "plt.xlabel('Player Grades')\n",
    "plt.ylabel('Count')\n",
    "plt.show()\n",
    "\n",
    "# Save the bar chart to the images folder\n",
    "plt.savefig('images/grade_distribution.png')"
   ]
  },
  {
   "cell_type": "code",
   "execution_count": 37,
   "metadata": {},
   "outputs": [
    {
     "data": {
      "text/plain": [
       "<Figure size 1000x600 with 0 Axes>"
      ]
     },
     "metadata": {},
     "output_type": "display_data"
    },
    {
     "data": {
      "image/png": "[encoded data removed]",
      "text/plain": [
       "<Figure size 500x500 with 1 Axes>"
      ]
     },
     "metadata": {},
     "output_type": "display_data"
    }
   ],
   "source": [
    "# Create a bar chart to show the distribution of positive and negative sentiment\n",
    "plt.figure(figsize=(10, 6))\n",
    "sns.displot(df['sentiment'], bins=2, kde=False)\n",
    "\n",
    "# Set the title and axis labels\n",
    "plt.title('Distribution of Sentiment')\n",
    "plt.xlabel('Sentiment')\n",
    "plt.ylabel('Count')\n",
    "\n",
    "# Save the bar chart to the images folder\n",
    "plt.savefig('images/sentiment_distribution.png')"
   ]
  },
  {
   "cell_type": "code",
   "execution_count": 38,
   "metadata": {},
   "outputs": [
    {
     "data": {
      "text/plain": [
       "<Figure size 1000x600 with 0 Axes>"
      ]
     },
     "metadata": {},
     "output_type": "display_data"
    },
    {
     "data": {
      "image/png": "[encoded data removed]",
      "text/plain": [
       "<Figure size 500x500 with 1 Axes>"
      ]
     },
     "metadata": {},
     "output_type": "display_data"
    }
   ],
   "source": [
    "# Create a bar chart to show the distribution of the adjusted confidence\n",
    "plt.figure(figsize=(10, 6))\n",
    "sns.displot(df['adjusted_confidence'], bins=10, kde=False)\n",
    "\n",
    "# Set the title and axis labels\n",
    "plt.title('Distribution of Adjusted Confidence')\n",
    "plt.xlabel('Adjusted Confidence')\n",
    "plt.ylabel('Count')\n",
    "\n",
    "# Save the bar chart to the images folder\n",
    "plt.savefig('images/adjusted_confidence_distribution.png')"
   ]
  }
 ],
 "metadata": {
  "kernelspec": {
   "display_name": "base",
   "language": "python",
   "name": "python3"
  },
  "language_info": {
   "codemirror_mode": {
    "name": "ipython",
    "version": 3
   },
   "file_extension": ".py",
   "mimetype": "text/x-python",
   "name": "python",
   "nbconvert_exporter": "python",
   "pygments_lexer": "ipython3",
   "version": "3.9.7 (default, Sep 16 2021, 08:50:36) \n[Clang 10.0.0 ]"
  },
  "orig_nbformat": 4,
  "vscode": {
   "interpreter": {
    "hash": "838e51ec53c769d56e1cc4cb363682f0a508bbcae9a91bec1df886143b87e50b"
   }
  }
 },
 "nbformat": 4,
 "nbformat_minor": 2
}
