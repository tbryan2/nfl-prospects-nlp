{
 "cells": [
  {
   "cell_type": "code",
   "execution_count": 1,
   "metadata": {},
   "outputs": [],
   "source": [
    "# Dependencies\n",
    "import pandas as pd\n",
    "from splinter import Browser\n",
    "from bs4 import BeautifulSoup as bs\n",
    "from webdriver_manager.chrome import ChromeDriverManager\n",
    "import requests\n",
    "import time"
   ]
  },
  {
   "cell_type": "code",
   "execution_count": 2,
   "metadata": {},
   "outputs": [
    {
     "name": "stdout",
     "output_type": "stream",
     "text": [
      "\n"
     ]
    }
   ],
   "source": [
    "# Set up Splinter\n",
    "executable_path = {'executable_path': ChromeDriverManager().install()}\n",
    "browser = Browser('chrome', **executable_path, headless=False)"
   ]
  },
  {
   "cell_type": "code",
   "execution_count": 3,
   "metadata": {},
   "outputs": [
    {
     "name": "stdout",
     "output_type": "stream",
     "text": [
      "462\n",
      "462\n"
     ]
    }
   ],
   "source": [
    "# Initialize the lists to hold player names and links\n",
    "player_link_name_2014 = []\n",
    "player_links_2014 = []\n",
    "player_names_2014 = []\n",
    "\n",
    "# Loop through each year and page to get player links\n",
    "for x in range(1, 25):\n",
    "        url = f'https://www.nfl.com/draft/tracker/prospects/all-positions/all-colleges/all-statuses/2014?page={x}'\n",
    "        browser.visit(url)\n",
    "        time.sleep(3)\n",
    "        html = browser.html\n",
    "        soup = bs(html, 'html.parser')\n",
    "        player_link_name = soup.find_all('a', class_='css-1mchkr3')\n",
    "        for link in player_link_name:\n",
    "            player_links_2014.append(link['href'])\n",
    "        for name in player_link_name:\n",
    "            player_names_2014.append(name.text)\n",
    "\n",
    "print(len(player_links_2014))\n",
    "print(len(player_names_2014))"
   ]
  },
  {
   "cell_type": "code",
   "execution_count": 4,
   "metadata": {},
   "outputs": [
    {
     "name": "stdout",
     "output_type": "stream",
     "text": [
      "408\n",
      "408\n"
     ]
    }
   ],
   "source": [
    "player_link_name_2015 = []\n",
    "player_links_2015 = []\n",
    "player_names_2015 = []\n",
    "\n",
    "for x in range(1, 22):\n",
    "    url = f'https://www.nfl.com/draft/tracker/prospects/all-positions/all-colleges/all-statuses/2015?page={x}'\n",
    "    browser.visit(url)\n",
    "    time.sleep(3)\n",
    "    html = browser.html\n",
    "    soup = bs(html, 'html.parser')\n",
    "    player_link_name = soup.find_all('a', class_='css-1mchkr3')\n",
    "    for link in player_link_name:\n",
    "        player_links_2015.append(link['href'])\n",
    "    for name in player_link_name:\n",
    "        player_names_2015.append(name.text)\n",
    "\n",
    "print(len(player_links_2015))\n",
    "print(len(player_names_2015))\n"
   ]
  },
  {
   "cell_type": "code",
   "execution_count": 5,
   "metadata": {},
   "outputs": [
    {
     "name": "stdout",
     "output_type": "stream",
     "text": [
      "407\n",
      "407\n"
     ]
    }
   ],
   "source": [
    "player_link_name_2016 = []\n",
    "player_links_2016 = []\n",
    "player_names_2016 = []\n",
    "\n",
    "for x in range(1, 22):\n",
    "    url = f'https://www.nfl.com/draft/tracker/prospects/all-positions/all-colleges/all-statuses/2016?page={x}'\n",
    "    browser.visit(url)\n",
    "    time.sleep(3)\n",
    "    html = browser.html\n",
    "    soup = bs(html, 'html.parser')\n",
    "    player_link_name = soup.find_all('a', class_='css-1mchkr3')\n",
    "    for link in player_link_name:\n",
    "        player_links_2016.append(link['href'])\n",
    "    for name in player_link_name:\n",
    "        player_names_2016.append(name.text)\n",
    "\n",
    "print(len(player_links_2016))\n",
    "print(len(player_names_2016))\n"
   ]
  },
  {
   "cell_type": "code",
   "execution_count": 6,
   "metadata": {},
   "outputs": [
    {
     "name": "stdout",
     "output_type": "stream",
     "text": [
      "424\n",
      "424\n"
     ]
    }
   ],
   "source": [
    "player_link_name_2017 = []\n",
    "player_links_2017 = []\n",
    "player_names_2017 = []\n",
    "\n",
    "\n",
    "for x in range(1, 23):\n",
    "    url = f'https://www.nfl.com/draft/tracker/prospects/all-positions/all-colleges/all-statuses/2017?page={x}'\n",
    "    browser.visit(url)\n",
    "    time.sleep(3)\n",
    "    html = browser.html\n",
    "    soup = bs(html, 'html.parser')\n",
    "    player_link_name = soup.find_all('a', class_='css-1mchkr3')\n",
    "    for link in player_link_name:\n",
    "        player_links_2017.append(link['href'])\n",
    "    for name in player_link_name:\n",
    "        player_names_2017.append(name.text)\n",
    "\n",
    "print(len(player_links_2017))\n",
    "print(len(player_names_2017))\n"
   ]
  },
  {
   "cell_type": "code",
   "execution_count": 7,
   "metadata": {},
   "outputs": [
    {
     "name": "stdout",
     "output_type": "stream",
     "text": [
      "642\n",
      "642\n"
     ]
    }
   ],
   "source": [
    "player_link_name_2018 = []\n",
    "player_links_2018 = []\n",
    "player_names_2018 = []\n",
    "\n",
    "for x in range(1, 34):\n",
    "    url = f'https://www.nfl.com/draft/tracker/prospects/all-positions/all-colleges/all-statuses/2018?page={x}'\n",
    "    browser.visit(url)\n",
    "    time.sleep(3)\n",
    "    html = browser.html\n",
    "    soup = bs(html, 'html.parser')\n",
    "    player_link_name = soup.find_all('a', class_='css-1mchkr3')\n",
    "    for link in player_link_name:\n",
    "        player_links_2018.append(link['href'])\n",
    "    for name in player_link_name:\n",
    "        player_names_2018.append(name.text)\n",
    "\n",
    "print(len(player_links_2018))\n",
    "print(len(player_names_2018))\n"
   ]
  },
  {
   "cell_type": "code",
   "execution_count": 8,
   "metadata": {},
   "outputs": [],
   "source": [
    "player_link_name_2019 = []\n",
    "player_links_2019 = []\n",
    "player_names_2019 = []\n",
    "\n",
    "\n",
    "for x in range(1, 27):\n",
    "    url = f'https://www.nfl.com/draft/tracker/prospects/all-positions/all-colleges/all-statuses/2019?page={x}'\n",
    "    browser.visit(url)\n",
    "    time.sleep(3)\n",
    "    html = browser.html\n",
    "    soup = bs(html, 'html.parser')\n",
    "    player_link_name = soup.find_all('a', class_='css-1mchkr3')\n",
    "    for link in player_link_name:\n",
    "        player_links_2019.append(link['href'])\n",
    "    for name in player_link_name:\n",
    "        player_names_2019.append(name.text)\n"
   ]
  },
  {
   "cell_type": "code",
   "execution_count": 9,
   "metadata": {},
   "outputs": [
    {
     "name": "stdout",
     "output_type": "stream",
     "text": [
      "506\n",
      "506\n"
     ]
    }
   ],
   "source": [
    "player_link_name_2020 = []\n",
    "player_links_2020 = []\n",
    "player_names_2020 = []\n",
    "\n",
    "for x in range(1, 27):\n",
    "    url = f'https://www.nfl.com/draft/tracker/prospects/all-positions/all-colleges/all-statuses/2020?page={x}'\n",
    "    browser.visit(url)\n",
    "    time.sleep(3)\n",
    "    html = browser.html\n",
    "    soup = bs(html, 'html.parser')\n",
    "    player_link_name = soup.find_all('a', class_='css-1mchkr3')\n",
    "    for link in player_link_name:\n",
    "        player_links_2020.append(link['href'])\n",
    "    for name in player_link_name:\n",
    "        player_names_2020.append(name.text)\n",
    "\n",
    "print(len(player_links_2020))\n",
    "print(len(player_names_2020))\n"
   ]
  },
  {
   "cell_type": "code",
   "execution_count": 10,
   "metadata": {},
   "outputs": [
    {
     "name": "stdout",
     "output_type": "stream",
     "text": [
      "468\n",
      "468\n"
     ]
    }
   ],
   "source": [
    "player_link_name_2021 = []\n",
    "player_links_2021 = []\n",
    "player_names_2021 = []\n",
    "\n",
    "for x in range(1, 25):\n",
    "    url = f'https://www.nfl.com/draft/tracker/prospects/all-positions/all-colleges/all-statuses/2021?page={x}'\n",
    "    browser.visit(url)\n",
    "    time.sleep(3)\n",
    "    html = browser.html\n",
    "    soup = bs(html, 'html.parser')\n",
    "    player_link_name = soup.find_all('a', class_='css-1mchkr3')\n",
    "    for link in player_link_name:\n",
    "        player_links_2021.append(link['href'])\n",
    "    for name in player_link_name:\n",
    "        player_names_2021.append(name.text)\n",
    "\n",
    "print(len(player_links_2021))\n",
    "print(len(player_names_2021))\n"
   ]
  },
  {
   "cell_type": "code",
   "execution_count": 11,
   "metadata": {},
   "outputs": [
    {
     "name": "stdout",
     "output_type": "stream",
     "text": [
      "477\n",
      "477\n"
     ]
    }
   ],
   "source": [
    "player_link_name_2022 = []\n",
    "player_links_2022 = []\n",
    "player_names_2022 = []\n",
    "\n",
    "for x in range(1, 25):\n",
    "    url = f'https://www.nfl.com/draft/tracker/prospects/all-positions/all-colleges/all-statuses/2022?page={x}'\n",
    "    browser.visit(url)\n",
    "    time.sleep(3)\n",
    "    html = browser.html\n",
    "    soup = bs(html, 'html.parser')\n",
    "    player_link_name = soup.find_all('a', class_='css-1mchkr3')\n",
    "    for link in player_link_name:\n",
    "        player_links_2022.append(link['href'])\n",
    "    for name in player_link_name:\n",
    "        player_names_2022.append(name.text)\n",
    "\n",
    "print(len(player_links_2022))\n",
    "print(len(player_names_2022))\n"
   ]
  },
  {
   "cell_type": "code",
   "execution_count": 14,
   "metadata": {},
   "outputs": [],
   "source": [
    "# Join all the link lists into one list\n",
    "player_links = player_links_2014 + player_links_2015 + player_links_2016 + player_links_2017 + player_links_2018 + \\\n",
    "               player_links_2019 + player_links_2020 + player_links_2021 + player_links_2022\n",
    "\n",
    "# Join all the name lists into one list\n",
    "player_names = player_names_2014 + player_names_2015 + player_names_2016 + player_names_2017 + player_names_2018 + \\\n",
    "                player_names_2019 + player_names_2020 + player_names_2021 + player_names_2022"
   ]
  },
  {
   "cell_type": "code",
   "execution_count": 15,
   "metadata": {},
   "outputs": [],
   "source": [
    "# Create a dataframe\n",
    "df = pd.DataFrame({'Player': player_names, 'Link': player_links})\n",
    "\n",
    "# Remove duplicates\n",
    "df = df.drop_duplicates(subset=['Player'], keep='first')"
   ]
  },
  {
   "cell_type": "code",
   "execution_count": 41,
   "metadata": {},
   "outputs": [
    {
     "data": {
      "text/html": [
       "<div>\n",
       "<style scoped>\n",
       "    .dataframe tbody tr th:only-of-type {\n",
       "        vertical-align: middle;\n",
       "    }\n",
       "\n",
       "    .dataframe tbody tr th {\n",
       "        vertical-align: top;\n",
       "    }\n",
       "\n",
       "    .dataframe thead th {\n",
       "        text-align: right;\n",
       "    }\n",
       "</style>\n",
       "<table border=\"1\" class=\"dataframe\">\n",
       "  <thead>\n",
       "    <tr style=\"text-align: right;\">\n",
       "      <th></th>\n",
       "      <th>Player</th>\n",
       "      <th>Link</th>\n",
       "    </tr>\n",
       "  </thead>\n",
       "  <tbody>\n",
       "    <tr>\n",
       "      <th>0</th>\n",
       "      <td>Jadeveon Clowney</td>\n",
       "      <td>https://www.nfl.com/prospects/jadeveon-clowney...</td>\n",
       "    </tr>\n",
       "    <tr>\n",
       "      <th>1</th>\n",
       "      <td>Sammy Watkins</td>\n",
       "      <td>https://www.nfl.com/prospects/sammy-watkins/32...</td>\n",
       "    </tr>\n",
       "    <tr>\n",
       "      <th>2</th>\n",
       "      <td>Anthony Barr</td>\n",
       "      <td>https://www.nfl.com/prospects/anthony-barr/320...</td>\n",
       "    </tr>\n",
       "    <tr>\n",
       "      <th>3</th>\n",
       "      <td>Khalil Mack</td>\n",
       "      <td>https://www.nfl.com/prospects/khalil-mack/3200...</td>\n",
       "    </tr>\n",
       "    <tr>\n",
       "      <th>4</th>\n",
       "      <td>Jake Matthews</td>\n",
       "      <td>https://www.nfl.com/prospects/jake-matthews/32...</td>\n",
       "    </tr>\n",
       "    <tr>\n",
       "      <th>...</th>\n",
       "      <td>...</td>\n",
       "      <td>...</td>\n",
       "    </tr>\n",
       "    <tr>\n",
       "      <th>4292</th>\n",
       "      <td>Jeremy Webb</td>\n",
       "      <td>https://www.nfl.com/prospects/jeremy-webb/3200...</td>\n",
       "    </tr>\n",
       "    <tr>\n",
       "      <th>4293</th>\n",
       "      <td>Russ Yeast</td>\n",
       "      <td>https://www.nfl.com/prospects/russ-yeast/32005...</td>\n",
       "    </tr>\n",
       "    <tr>\n",
       "      <th>4294</th>\n",
       "      <td>Ken Marks</td>\n",
       "      <td>https://www.nfl.com/prospects/ken-marks/32004d...</td>\n",
       "    </tr>\n",
       "    <tr>\n",
       "      <th>4295</th>\n",
       "      <td>Devin Wynn</td>\n",
       "      <td>https://www.nfl.com/prospects/devin-wynn/32005...</td>\n",
       "    </tr>\n",
       "    <tr>\n",
       "      <th>4296</th>\n",
       "      <td>Inoke Moala</td>\n",
       "      <td>https://www.nfl.com/prospects/inoke-moala/3200...</td>\n",
       "    </tr>\n",
       "  </tbody>\n",
       "</table>\n",
       "<p>4262 rows × 2 columns</p>\n",
       "</div>"
      ],
      "text/plain": [
       "                Player                                               Link\n",
       "0     Jadeveon Clowney  https://www.nfl.com/prospects/jadeveon-clowney...\n",
       "1        Sammy Watkins  https://www.nfl.com/prospects/sammy-watkins/32...\n",
       "2         Anthony Barr  https://www.nfl.com/prospects/anthony-barr/320...\n",
       "3          Khalil Mack  https://www.nfl.com/prospects/khalil-mack/3200...\n",
       "4        Jake Matthews  https://www.nfl.com/prospects/jake-matthews/32...\n",
       "...                ...                                                ...\n",
       "4292       Jeremy Webb  https://www.nfl.com/prospects/jeremy-webb/3200...\n",
       "4293        Russ Yeast  https://www.nfl.com/prospects/russ-yeast/32005...\n",
       "4294         Ken Marks  https://www.nfl.com/prospects/ken-marks/32004d...\n",
       "4295        Devin Wynn  https://www.nfl.com/prospects/devin-wynn/32005...\n",
       "4296       Inoke Moala  https://www.nfl.com/prospects/inoke-moala/3200...\n",
       "\n",
       "[4262 rows x 2 columns]"
      ]
     },
     "execution_count": 41,
     "metadata": {},
     "output_type": "execute_result"
    }
   ],
   "source": [
    "df"
   ]
  },
  {
   "cell_type": "code",
   "execution_count": 20,
   "metadata": {},
   "outputs": [],
   "source": [
    "# Save the DataFrame as a csv\n",
    "df.to_csv('nfl_draft_links.csv', index=False)"
   ]
  },
  {
   "cell_type": "code",
   "execution_count": 43,
   "metadata": {},
   "outputs": [],
   "source": [
    "# Initialize lists to hold the data\n",
    "player_bios = []\n",
    "player_grades = []\n",
    "draft_projection = []\n",
    "\n",
    "# Loop through the links and scrape the data, should take about 6 hours to run\n",
    "for index, row in df.iterrows():\n",
    "    url = row['Link']\n",
    "    browser.visit(url)\n",
    "    time.sleep(3)\n",
    "    html = browser.html\n",
    "    soup = bs(html, 'html.parser')\n",
    "    try:\n",
    "        player_bios.append(soup.find('div', class_='css-p5t7uv').text)\n",
    "        player_grades.append(soup.find('div', class_='css-1haanmq').text)\n",
    "        draft_projection.append(soup.find('div', class_='css-1rt9xb4').text)\n",
    "    except AttributeError:\n",
    "        player_bios.append('NA')\n",
    "        player_grades.append('NA')\n",
    "        draft_projection.append('NA')"
   ]
  },
  {
   "cell_type": "code",
   "execution_count": 38,
   "metadata": {},
   "outputs": [],
   "source": [
    "# Use the first URL as a test case\n",
    "url = df['Link'][0]\n",
    "browser.visit(url)\n",
    "time.sleep(1)\n",
    "html = browser.html\n",
    "soup = bs(html, 'html.parser')\n",
    "\n",
    "# Get the various elements from the page\n",
    "player_bio = soup.find('div', class_='css-p5t7uv').text\n",
    "player_grade = soup.find('div', class_='css-1haanmq').text\n",
    "draft_projection = soup.find('div', class_='css-1rt9xb4').text"
   ]
  },
  {
   "cell_type": "code",
   "execution_count": null,
   "metadata": {},
   "outputs": [],
   "source": []
  }
 ],
 "metadata": {
  "kernelspec": {
   "display_name": "base",
   "language": "python",
   "name": "python3"
  },
  "language_info": {
   "codemirror_mode": {
    "name": "ipython",
    "version": 3
   },
   "file_extension": ".py",
   "mimetype": "text/x-python",
   "name": "python",
   "nbconvert_exporter": "python",
   "pygments_lexer": "ipython3",
   "version": "3.9.7"
  },
  "orig_nbformat": 4,
  "vscode": {
   "interpreter": {
    "hash": "838e51ec53c769d56e1cc4cb363682f0a508bbcae9a91bec1df886143b87e50b"
   }
  }
 },
 "nbformat": 4,
 "nbformat_minor": 2
}
