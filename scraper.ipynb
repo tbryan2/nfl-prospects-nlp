{
 "cells": [
  {
   "cell_type": "code",
   "execution_count": 14,
   "metadata": {},
   "outputs": [],
   "source": [
    "# Dependencies\n",
    "import pandas as pd\n",
    "from splinter import Browser\n",
    "from bs4 import BeautifulSoup as bs\n",
    "from webdriver_manager.chrome import ChromeDriverManager\n",
    "import requests\n",
    "import time"
   ]
  },
  {
   "cell_type": "code",
   "execution_count": 15,
   "metadata": {},
   "outputs": [
    {
     "name": "stdout",
     "output_type": "stream",
     "text": [
      "\n"
     ]
    }
   ],
   "source": [
    "# Set up Splinter\n",
    "executable_path = {'executable_path': ChromeDriverManager().install()}\n",
    "browser = Browser('chrome', **executable_path, headless=False)"
   ]
  },
  {
   "cell_type": "code",
   "execution_count": 3,
   "metadata": {},
   "outputs": [
    {
     "name": "stdout",
     "output_type": "stream",
     "text": [
      "462\n",
      "462\n"
     ]
    }
   ],
   "source": [
    "# Initialize the lists to hold player names and links\n",
    "player_link_name_2014 = []\n",
    "player_links_2014 = []\n",
    "player_names_2014 = []\n",
    "\n",
    "# Loop through each year and page to get player links\n",
    "for x in range(1, 25):\n",
    "        url = f'https://www.nfl.com/draft/tracker/prospects/all-positions/all-colleges/all-statuses/2014?page={x}'\n",
    "        browser.visit(url)\n",
    "        time.sleep(3)\n",
    "        html = browser.html\n",
    "        soup = bs(html, 'html.parser')\n",
    "        player_link_name = soup.find_all('a', class_='css-1mchkr3')\n",
    "        for link in player_link_name:\n",
    "            player_links_2014.append(link['href'])\n",
    "        for name in player_link_name:\n",
    "            player_names_2014.append(name.text)\n",
    "\n",
    "print(len(player_links_2014))\n",
    "print(len(player_names_2014))"
   ]
  },
  {
   "cell_type": "code",
   "execution_count": 4,
   "metadata": {},
   "outputs": [
    {
     "name": "stdout",
     "output_type": "stream",
     "text": [
      "408\n",
      "408\n"
     ]
    }
   ],
   "source": [
    "player_link_name_2015 = []\n",
    "player_links_2015 = []\n",
    "player_names_2015 = []\n",
    "\n",
    "for x in range(1, 22):\n",
    "    url = f'https://www.nfl.com/draft/tracker/prospects/all-positions/all-colleges/all-statuses/2015?page={x}'\n",
    "    browser.visit(url)\n",
    "    time.sleep(3)\n",
    "    html = browser.html\n",
    "    soup = bs(html, 'html.parser')\n",
    "    player_link_name = soup.find_all('a', class_='css-1mchkr3')\n",
    "    for link in player_link_name:\n",
    "        player_links_2015.append(link['href'])\n",
    "    for name in player_link_name:\n",
    "        player_names_2015.append(name.text)\n",
    "\n",
    "print(len(player_links_2015))\n",
    "print(len(player_names_2015))\n"
   ]
  },
  {
   "cell_type": "code",
   "execution_count": 5,
   "metadata": {},
   "outputs": [
    {
     "name": "stdout",
     "output_type": "stream",
     "text": [
      "407\n",
      "407\n"
     ]
    }
   ],
   "source": [
    "player_link_name_2016 = []\n",
    "player_links_2016 = []\n",
    "player_names_2016 = []\n",
    "\n",
    "for x in range(1, 22):\n",
    "    url = f'https://www.nfl.com/draft/tracker/prospects/all-positions/all-colleges/all-statuses/2016?page={x}'\n",
    "    browser.visit(url)\n",
    "    time.sleep(3)\n",
    "    html = browser.html\n",
    "    soup = bs(html, 'html.parser')\n",
    "    player_link_name = soup.find_all('a', class_='css-1mchkr3')\n",
    "    for link in player_link_name:\n",
    "        player_links_2016.append(link['href'])\n",
    "    for name in player_link_name:\n",
    "        player_names_2016.append(name.text)\n",
    "\n",
    "print(len(player_links_2016))\n",
    "print(len(player_names_2016))\n"
   ]
  },
  {
   "cell_type": "code",
   "execution_count": 6,
   "metadata": {},
   "outputs": [
    {
     "name": "stdout",
     "output_type": "stream",
     "text": [
      "424\n",
      "424\n"
     ]
    }
   ],
   "source": [
    "player_link_name_2017 = []\n",
    "player_links_2017 = []\n",
    "player_names_2017 = []\n",
    "\n",
    "\n",
    "for x in range(1, 23):\n",
    "    url = f'https://www.nfl.com/draft/tracker/prospects/all-positions/all-colleges/all-statuses/2017?page={x}'\n",
    "    browser.visit(url)\n",
    "    time.sleep(3)\n",
    "    html = browser.html\n",
    "    soup = bs(html, 'html.parser')\n",
    "    player_link_name = soup.find_all('a', class_='css-1mchkr3')\n",
    "    for link in player_link_name:\n",
    "        player_links_2017.append(link['href'])\n",
    "    for name in player_link_name:\n",
    "        player_names_2017.append(name.text)\n",
    "\n",
    "print(len(player_links_2017))\n",
    "print(len(player_names_2017))\n"
   ]
  },
  {
   "cell_type": "code",
   "execution_count": 7,
   "metadata": {},
   "outputs": [
    {
     "name": "stdout",
     "output_type": "stream",
     "text": [
      "642\n",
      "642\n"
     ]
    }
   ],
   "source": [
    "player_link_name_2018 = []\n",
    "player_links_2018 = []\n",
    "player_names_2018 = []\n",
    "\n",
    "for x in range(1, 34):\n",
    "    url = f'https://www.nfl.com/draft/tracker/prospects/all-positions/all-colleges/all-statuses/2018?page={x}'\n",
    "    browser.visit(url)\n",
    "    time.sleep(3)\n",
    "    html = browser.html\n",
    "    soup = bs(html, 'html.parser')\n",
    "    player_link_name = soup.find_all('a', class_='css-1mchkr3')\n",
    "    for link in player_link_name:\n",
    "        player_links_2018.append(link['href'])\n",
    "    for name in player_link_name:\n",
    "        player_names_2018.append(name.text)\n",
    "\n",
    "print(len(player_links_2018))\n",
    "print(len(player_names_2018))\n"
   ]
  },
  {
   "cell_type": "code",
   "execution_count": 8,
   "metadata": {},
   "outputs": [],
   "source": [
    "player_link_name_2019 = []\n",
    "player_links_2019 = []\n",
    "player_names_2019 = []\n",
    "\n",
    "\n",
    "for x in range(1, 27):\n",
    "    url = f'https://www.nfl.com/draft/tracker/prospects/all-positions/all-colleges/all-statuses/2019?page={x}'\n",
    "    browser.visit(url)\n",
    "    time.sleep(3)\n",
    "    html = browser.html\n",
    "    soup = bs(html, 'html.parser')\n",
    "    player_link_name = soup.find_all('a', class_='css-1mchkr3')\n",
    "    for link in player_link_name:\n",
    "        player_links_2019.append(link['href'])\n",
    "    for name in player_link_name:\n",
    "        player_names_2019.append(name.text)\n"
   ]
  },
  {
   "cell_type": "code",
   "execution_count": 9,
   "metadata": {},
   "outputs": [
    {
     "name": "stdout",
     "output_type": "stream",
     "text": [
      "506\n",
      "506\n"
     ]
    }
   ],
   "source": [
    "player_link_name_2020 = []\n",
    "player_links_2020 = []\n",
    "player_names_2020 = []\n",
    "\n",
    "for x in range(1, 27):\n",
    "    url = f'https://www.nfl.com/draft/tracker/prospects/all-positions/all-colleges/all-statuses/2020?page={x}'\n",
    "    browser.visit(url)\n",
    "    time.sleep(3)\n",
    "    html = browser.html\n",
    "    soup = bs(html, 'html.parser')\n",
    "    player_link_name = soup.find_all('a', class_='css-1mchkr3')\n",
    "    for link in player_link_name:\n",
    "        player_links_2020.append(link['href'])\n",
    "    for name in player_link_name:\n",
    "        player_names_2020.append(name.text)\n",
    "\n",
    "print(len(player_links_2020))\n",
    "print(len(player_names_2020))\n"
   ]
  },
  {
   "cell_type": "code",
   "execution_count": 10,
   "metadata": {},
   "outputs": [
    {
     "name": "stdout",
     "output_type": "stream",
     "text": [
      "468\n",
      "468\n"
     ]
    }
   ],
   "source": [
    "player_link_name_2021 = []\n",
    "player_links_2021 = []\n",
    "player_names_2021 = []\n",
    "\n",
    "for x in range(1, 25):\n",
    "    url = f'https://www.nfl.com/draft/tracker/prospects/all-positions/all-colleges/all-statuses/2021?page={x}'\n",
    "    browser.visit(url)\n",
    "    time.sleep(3)\n",
    "    html = browser.html\n",
    "    soup = bs(html, 'html.parser')\n",
    "    player_link_name = soup.find_all('a', class_='css-1mchkr3')\n",
    "    for link in player_link_name:\n",
    "        player_links_2021.append(link['href'])\n",
    "    for name in player_link_name:\n",
    "        player_names_2021.append(name.text)\n",
    "\n",
    "print(len(player_links_2021))\n",
    "print(len(player_names_2021))\n"
   ]
  },
  {
   "cell_type": "code",
   "execution_count": 11,
   "metadata": {},
   "outputs": [
    {
     "name": "stdout",
     "output_type": "stream",
     "text": [
      "477\n",
      "477\n"
     ]
    }
   ],
   "source": [
    "player_link_name_2022 = []\n",
    "player_links_2022 = []\n",
    "player_names_2022 = []\n",
    "\n",
    "for x in range(1, 25):\n",
    "    url = f'https://www.nfl.com/draft/tracker/prospects/all-positions/all-colleges/all-statuses/2022?page={x}'\n",
    "    browser.visit(url)\n",
    "    time.sleep(3)\n",
    "    html = browser.html\n",
    "    soup = bs(html, 'html.parser')\n",
    "    player_link_name = soup.find_all('a', class_='css-1mchkr3')\n",
    "    for link in player_link_name:\n",
    "        player_links_2022.append(link['href'])\n",
    "    for name in player_link_name:\n",
    "        player_names_2022.append(name.text)\n",
    "\n",
    "print(len(player_links_2022))\n",
    "print(len(player_names_2022))\n"
   ]
  },
  {
   "cell_type": "code",
   "execution_count": 14,
   "metadata": {},
   "outputs": [],
   "source": [
    "# Join all the link lists into one list\n",
    "player_links = player_links_2014 + player_links_2015 + player_links_2016 + player_links_2017 + player_links_2018 + \\\n",
    "               player_links_2019 + player_links_2020 + player_links_2021 + player_links_2022\n",
    "\n",
    "# Join all the name lists into one list\n",
    "player_names = player_names_2014 + player_names_2015 + player_names_2016 + player_names_2017 + player_names_2018 + \\\n",
    "                player_names_2019 + player_names_2020 + player_names_2021 + player_names_2022"
   ]
  },
  {
   "cell_type": "code",
   "execution_count": 15,
   "metadata": {},
   "outputs": [],
   "source": [
    "# Create a dataframe\n",
    "df = pd.DataFrame({'Player': player_names, 'Link': player_links})\n",
    "\n",
    "# Remove duplicates\n",
    "df = df.drop_duplicates(subset=['Player'], keep='first')"
   ]
  },
  {
   "cell_type": "code",
   "execution_count": 41,
   "metadata": {},
   "outputs": [
    {
     "data": {
      "text/html": [
       "<div>\n",
       "<style scoped>\n",
       "    .dataframe tbody tr th:only-of-type {\n",
       "        vertical-align: middle;\n",
       "    }\n",
       "\n",
       "    .dataframe tbody tr th {\n",
       "        vertical-align: top;\n",
       "    }\n",
       "\n",
       "    .dataframe thead th {\n",
       "        text-align: right;\n",
       "    }\n",
       "</style>\n",
       "<table border=\"1\" class=\"dataframe\">\n",
       "  <thead>\n",
       "    <tr style=\"text-align: right;\">\n",
       "      <th></th>\n",
       "      <th>Player</th>\n",
       "      <th>Link</th>\n",
       "    </tr>\n",
       "  </thead>\n",
       "  <tbody>\n",
       "    <tr>\n",
       "      <th>0</th>\n",
       "      <td>Jadeveon Clowney</td>\n",
       "      <td>https://www.nfl.com/prospects/jadeveon-clowney...</td>\n",
       "    </tr>\n",
       "    <tr>\n",
       "      <th>1</th>\n",
       "      <td>Sammy Watkins</td>\n",
       "      <td>https://www.nfl.com/prospects/sammy-watkins/32...</td>\n",
       "    </tr>\n",
       "    <tr>\n",
       "      <th>2</th>\n",
       "      <td>Anthony Barr</td>\n",
       "      <td>https://www.nfl.com/prospects/anthony-barr/320...</td>\n",
       "    </tr>\n",
       "    <tr>\n",
       "      <th>3</th>\n",
       "      <td>Khalil Mack</td>\n",
       "      <td>https://www.nfl.com/prospects/khalil-mack/3200...</td>\n",
       "    </tr>\n",
       "    <tr>\n",
       "      <th>4</th>\n",
       "      <td>Jake Matthews</td>\n",
       "      <td>https://www.nfl.com/prospects/jake-matthews/32...</td>\n",
       "    </tr>\n",
       "    <tr>\n",
       "      <th>...</th>\n",
       "      <td>...</td>\n",
       "      <td>...</td>\n",
       "    </tr>\n",
       "    <tr>\n",
       "      <th>4292</th>\n",
       "      <td>Jeremy Webb</td>\n",
       "      <td>https://www.nfl.com/prospects/jeremy-webb/3200...</td>\n",
       "    </tr>\n",
       "    <tr>\n",
       "      <th>4293</th>\n",
       "      <td>Russ Yeast</td>\n",
       "      <td>https://www.nfl.com/prospects/russ-yeast/32005...</td>\n",
       "    </tr>\n",
       "    <tr>\n",
       "      <th>4294</th>\n",
       "      <td>Ken Marks</td>\n",
       "      <td>https://www.nfl.com/prospects/ken-marks/32004d...</td>\n",
       "    </tr>\n",
       "    <tr>\n",
       "      <th>4295</th>\n",
       "      <td>Devin Wynn</td>\n",
       "      <td>https://www.nfl.com/prospects/devin-wynn/32005...</td>\n",
       "    </tr>\n",
       "    <tr>\n",
       "      <th>4296</th>\n",
       "      <td>Inoke Moala</td>\n",
       "      <td>https://www.nfl.com/prospects/inoke-moala/3200...</td>\n",
       "    </tr>\n",
       "  </tbody>\n",
       "</table>\n",
       "<p>4262 rows × 2 columns</p>\n",
       "</div>"
      ],
      "text/plain": [
       "                Player                                               Link\n",
       "0     Jadeveon Clowney  https://www.nfl.com/prospects/jadeveon-clowney...\n",
       "1        Sammy Watkins  https://www.nfl.com/prospects/sammy-watkins/32...\n",
       "2         Anthony Barr  https://www.nfl.com/prospects/anthony-barr/320...\n",
       "3          Khalil Mack  https://www.nfl.com/prospects/khalil-mack/3200...\n",
       "4        Jake Matthews  https://www.nfl.com/prospects/jake-matthews/32...\n",
       "...                ...                                                ...\n",
       "4292       Jeremy Webb  https://www.nfl.com/prospects/jeremy-webb/3200...\n",
       "4293        Russ Yeast  https://www.nfl.com/prospects/russ-yeast/32005...\n",
       "4294         Ken Marks  https://www.nfl.com/prospects/ken-marks/32004d...\n",
       "4295        Devin Wynn  https://www.nfl.com/prospects/devin-wynn/32005...\n",
       "4296       Inoke Moala  https://www.nfl.com/prospects/inoke-moala/3200...\n",
       "\n",
       "[4262 rows x 2 columns]"
      ]
     },
     "execution_count": 41,
     "metadata": {},
     "output_type": "execute_result"
    }
   ],
   "source": [
    "df"
   ]
  },
  {
   "cell_type": "code",
   "execution_count": 20,
   "metadata": {},
   "outputs": [],
   "source": [
    "# Save the DataFrame as a csv\n",
    "df.to_csv('nfl_draft_links.csv', index=False)"
   ]
  },
  {
   "cell_type": "code",
   "execution_count": 16,
   "metadata": {},
   "outputs": [],
   "source": [
    "df = pd.read_csv('nfl_draft_links.csv')"
   ]
  },
  {
   "cell_type": "code",
   "execution_count": 17,
   "metadata": {},
   "outputs": [],
   "source": [
    "# Initialize lists to hold the data\n",
    "player_bios = []\n",
    "player_grades = []\n",
    "draft_projection = []\n",
    "\n",
    "# Loop through the links and scrape the data, should take about 6 hours to run\n",
    "for index, row in df.iterrows():\n",
    "    url = row['Link']\n",
    "    browser.visit(url)\n",
    "    time.sleep(5)\n",
    "    html = browser.html\n",
    "    soup = bs(html, 'html.parser')\n",
    "    try:\n",
    "        # Append the player's bio to the dataframe\n",
    "        player_bio = soup.find('div', class_='player-bio').text\n",
    "        \n",
    "    except AttributeError:\n",
    "        player_bios.append('NA')\n",
    "        player_grades.append('NA')\n",
    "        draft_projection.append('NA')"
   ]
  },
  {
   "cell_type": "code",
   "execution_count": null,
   "metadata": {},
   "outputs": [],
   "source": [
    "player_bios.append(soup.find('div', class_='css-p5t7uv').text)\n",
    "player_grades.append(soup.find('div', class_='css-1haanmq').text)\n",
    "draft_projection.append(soup.find('div', class_='css-1rt9xb4').text)\n"
   ]
  },
  {
   "cell_type": "code",
   "execution_count": 19,
   "metadata": {},
   "outputs": [
    {
     "ename": "ValueError",
     "evalue": "All arrays must be of the same length",
     "output_type": "error",
     "traceback": [
      "\u001b[0;31m---------------------------------------------------------------------------\u001b[0m",
      "\u001b[0;31mValueError\u001b[0m                                Traceback (most recent call last)",
      "Cell \u001b[0;32mIn [19], line 2\u001b[0m\n\u001b[1;32m      1\u001b[0m \u001b[39m# Combine all the lists into a dataframe, save as csv\u001b[39;00m\n\u001b[0;32m----> 2\u001b[0m df3 \u001b[39m=\u001b[39m pd\u001b[39m.\u001b[39;49mDataFrame({\u001b[39m'\u001b[39;49m\u001b[39mPlayer Bio\u001b[39;49m\u001b[39m'\u001b[39;49m: player_bios, \u001b[39m'\u001b[39;49m\u001b[39mPlayer Grades\u001b[39;49m\u001b[39m'\u001b[39;49m: player_grades, \u001b[39m'\u001b[39;49m\u001b[39mDraft Projection\u001b[39;49m\u001b[39m'\u001b[39;49m: draft_projection})\n",
      "File \u001b[0;32m~/opt/anaconda3/lib/python3.9/site-packages/pandas/core/frame.py:614\u001b[0m, in \u001b[0;36mDataFrame.__init__\u001b[0;34m(self, data, index, columns, dtype, copy)\u001b[0m\n\u001b[1;32m    608\u001b[0m     mgr \u001b[39m=\u001b[39m \u001b[39mself\u001b[39m\u001b[39m.\u001b[39m_init_mgr(\n\u001b[1;32m    609\u001b[0m         data, axes\u001b[39m=\u001b[39m{\u001b[39m\"\u001b[39m\u001b[39mindex\u001b[39m\u001b[39m\"\u001b[39m: index, \u001b[39m\"\u001b[39m\u001b[39mcolumns\u001b[39m\u001b[39m\"\u001b[39m: columns}, dtype\u001b[39m=\u001b[39mdtype, copy\u001b[39m=\u001b[39mcopy\n\u001b[1;32m    610\u001b[0m     )\n\u001b[1;32m    612\u001b[0m \u001b[39melif\u001b[39;00m \u001b[39misinstance\u001b[39m(data, \u001b[39mdict\u001b[39m):\n\u001b[1;32m    613\u001b[0m     \u001b[39m# GH#38939 de facto copy defaults to False only in non-dict cases\u001b[39;00m\n\u001b[0;32m--> 614\u001b[0m     mgr \u001b[39m=\u001b[39m dict_to_mgr(data, index, columns, dtype\u001b[39m=\u001b[39;49mdtype, copy\u001b[39m=\u001b[39;49mcopy, typ\u001b[39m=\u001b[39;49mmanager)\n\u001b[1;32m    615\u001b[0m \u001b[39melif\u001b[39;00m \u001b[39misinstance\u001b[39m(data, ma\u001b[39m.\u001b[39mMaskedArray):\n\u001b[1;32m    616\u001b[0m     \u001b[39mimport\u001b[39;00m \u001b[39mnumpy\u001b[39;00m\u001b[39m.\u001b[39;00m\u001b[39mma\u001b[39;00m\u001b[39m.\u001b[39;00m\u001b[39mmrecords\u001b[39;00m \u001b[39mas\u001b[39;00m \u001b[39mmrecords\u001b[39;00m\n",
      "File \u001b[0;32m~/opt/anaconda3/lib/python3.9/site-packages/pandas/core/internals/construction.py:464\u001b[0m, in \u001b[0;36mdict_to_mgr\u001b[0;34m(data, index, columns, dtype, typ, copy)\u001b[0m\n\u001b[1;32m    456\u001b[0m     arrays \u001b[39m=\u001b[39m [\n\u001b[1;32m    457\u001b[0m         x\n\u001b[1;32m    458\u001b[0m         \u001b[39mif\u001b[39;00m \u001b[39mnot\u001b[39;00m \u001b[39mhasattr\u001b[39m(x, \u001b[39m\"\u001b[39m\u001b[39mdtype\u001b[39m\u001b[39m\"\u001b[39m) \u001b[39mor\u001b[39;00m \u001b[39mnot\u001b[39;00m \u001b[39misinstance\u001b[39m(x\u001b[39m.\u001b[39mdtype, ExtensionDtype)\n\u001b[1;32m    459\u001b[0m         \u001b[39melse\u001b[39;00m x\u001b[39m.\u001b[39mcopy()\n\u001b[1;32m    460\u001b[0m         \u001b[39mfor\u001b[39;00m x \u001b[39min\u001b[39;00m arrays\n\u001b[1;32m    461\u001b[0m     ]\n\u001b[1;32m    462\u001b[0m     \u001b[39m# TODO: can we get rid of the dt64tz special case above?\u001b[39;00m\n\u001b[0;32m--> 464\u001b[0m \u001b[39mreturn\u001b[39;00m arrays_to_mgr(\n\u001b[1;32m    465\u001b[0m     arrays, data_names, index, columns, dtype\u001b[39m=\u001b[39;49mdtype, typ\u001b[39m=\u001b[39;49mtyp, consolidate\u001b[39m=\u001b[39;49mcopy\n\u001b[1;32m    466\u001b[0m )\n",
      "File \u001b[0;32m~/opt/anaconda3/lib/python3.9/site-packages/pandas/core/internals/construction.py:119\u001b[0m, in \u001b[0;36marrays_to_mgr\u001b[0;34m(arrays, arr_names, index, columns, dtype, verify_integrity, typ, consolidate)\u001b[0m\n\u001b[1;32m    116\u001b[0m \u001b[39mif\u001b[39;00m verify_integrity:\n\u001b[1;32m    117\u001b[0m     \u001b[39m# figure out the index, if necessary\u001b[39;00m\n\u001b[1;32m    118\u001b[0m     \u001b[39mif\u001b[39;00m index \u001b[39mis\u001b[39;00m \u001b[39mNone\u001b[39;00m:\n\u001b[0;32m--> 119\u001b[0m         index \u001b[39m=\u001b[39m _extract_index(arrays)\n\u001b[1;32m    120\u001b[0m     \u001b[39melse\u001b[39;00m:\n\u001b[1;32m    121\u001b[0m         index \u001b[39m=\u001b[39m ensure_index(index)\n",
      "File \u001b[0;32m~/opt/anaconda3/lib/python3.9/site-packages/pandas/core/internals/construction.py:635\u001b[0m, in \u001b[0;36m_extract_index\u001b[0;34m(data)\u001b[0m\n\u001b[1;32m    633\u001b[0m lengths \u001b[39m=\u001b[39m \u001b[39mlist\u001b[39m(\u001b[39mset\u001b[39m(raw_lengths))\n\u001b[1;32m    634\u001b[0m \u001b[39mif\u001b[39;00m \u001b[39mlen\u001b[39m(lengths) \u001b[39m>\u001b[39m \u001b[39m1\u001b[39m:\n\u001b[0;32m--> 635\u001b[0m     \u001b[39mraise\u001b[39;00m \u001b[39mValueError\u001b[39;00m(\u001b[39m\"\u001b[39m\u001b[39mAll arrays must be of the same length\u001b[39m\u001b[39m\"\u001b[39m)\n\u001b[1;32m    637\u001b[0m \u001b[39mif\u001b[39;00m have_dicts:\n\u001b[1;32m    638\u001b[0m     \u001b[39mraise\u001b[39;00m \u001b[39mValueError\u001b[39;00m(\n\u001b[1;32m    639\u001b[0m         \u001b[39m\"\u001b[39m\u001b[39mMixing dicts with non-Series may lead to ambiguous ordering.\u001b[39m\u001b[39m\"\u001b[39m\n\u001b[1;32m    640\u001b[0m     )\n",
      "\u001b[0;31mValueError\u001b[0m: All arrays must be of the same length"
     ]
    }
   ],
   "source": [
    "# Combine all the lists into a dataframe, save as csv\n",
    "df3 = pd.DataFrame({'Player Bio': player_bios, 'Player Grades': player_grades, 'Draft Projection': draft_projection})"
   ]
  },
  {
   "cell_type": "code",
   "execution_count": 23,
   "metadata": {},
   "outputs": [],
   "source": [
    "# Make the player bio column a lone dataframe\n",
    "df3 = pd.DataFrame({'Player Bio': player_bios})"
   ]
  },
  {
   "cell_type": "code",
   "execution_count": 24,
   "metadata": {},
   "outputs": [],
   "source": [
    "# Make the player bio column a lone dataframe\n",
    "df4 = pd.DataFrame({'Player Grades': player_grades})"
   ]
  },
  {
   "cell_type": "code",
   "execution_count": 25,
   "metadata": {},
   "outputs": [],
   "source": [
    "df5 = pd.DataFrame({'Draft Projection': draft_projection})"
   ]
  },
  {
   "cell_type": "code",
   "execution_count": 26,
   "metadata": {},
   "outputs": [],
   "source": [
    "# Save df3 through df5 as csv files\n",
    "df3.to_csv('player_bios.csv', index=False)\n",
    "df4.to_csv('player_grades.csv', index=False)\n",
    "df5.to_csv('draft_projection.csv', index=False)"
   ]
  },
  {
   "cell_type": "code",
   "execution_count": 20,
   "metadata": {},
   "outputs": [
    {
     "data": {
      "text/plain": [
       "4998"
      ]
     },
     "execution_count": 20,
     "metadata": {},
     "output_type": "execute_result"
    }
   ],
   "source": [
    "len(player_bios)"
   ]
  },
  {
   "cell_type": "code",
   "execution_count": 21,
   "metadata": {},
   "outputs": [
    {
     "data": {
      "text/plain": [
       "4997"
      ]
     },
     "execution_count": 21,
     "metadata": {},
     "output_type": "execute_result"
    }
   ],
   "source": [
    "len(player_grades)"
   ]
  },
  {
   "cell_type": "code",
   "execution_count": 22,
   "metadata": {},
   "outputs": [
    {
     "data": {
      "text/plain": [
       "4262"
      ]
     },
     "execution_count": 22,
     "metadata": {},
     "output_type": "execute_result"
    }
   ],
   "source": [
    "len(draft_projection)"
   ]
  },
  {
   "cell_type": "code",
   "execution_count": 5,
   "metadata": {},
   "outputs": [
    {
     "data": {
      "text/plain": [
       "1232"
      ]
     },
     "execution_count": 5,
     "metadata": {},
     "output_type": "execute_result"
    }
   ],
   "source": [
    "len(player_bios)"
   ]
  },
  {
   "cell_type": "code",
   "execution_count": 6,
   "metadata": {},
   "outputs": [
    {
     "data": {
      "text/plain": [
       "1232"
      ]
     },
     "execution_count": 6,
     "metadata": {},
     "output_type": "execute_result"
    }
   ],
   "source": [
    "len(player_grades)"
   ]
  },
  {
   "cell_type": "code",
   "execution_count": 9,
   "metadata": {},
   "outputs": [
    {
     "data": {
      "text/plain": [
       "1024"
      ]
     },
     "execution_count": 9,
     "metadata": {},
     "output_type": "execute_result"
    }
   ],
   "source": [
    "len(draft_projection)"
   ]
  },
  {
   "cell_type": "code",
   "execution_count": 10,
   "metadata": {},
   "outputs": [],
   "source": [
    "# combine the lists into a dataframe\n",
    "df2 = pd.DataFrame({'Bio': player_bios, 'Grades': player_grades})"
   ]
  },
  {
   "cell_type": "code",
   "execution_count": 11,
   "metadata": {},
   "outputs": [],
   "source": [
    "# save the df2 as a csv\n",
    "df2.to_csv('nfl_draft_bios.csv', index=False)"
   ]
  },
  {
   "cell_type": "code",
   "execution_count": null,
   "metadata": {},
   "outputs": [],
   "source": []
  }
 ],
 "metadata": {
  "kernelspec": {
   "display_name": "base",
   "language": "python",
   "name": "python3"
  },
  "language_info": {
   "codemirror_mode": {
    "name": "ipython",
    "version": 3
   },
   "file_extension": ".py",
   "mimetype": "text/x-python",
   "name": "python",
   "nbconvert_exporter": "python",
   "pygments_lexer": "ipython3",
   "version": "3.9.7"
  },
  "orig_nbformat": 4,
  "vscode": {
   "interpreter": {
    "hash": "838e51ec53c769d56e1cc4cb363682f0a508bbcae9a91bec1df886143b87e50b"
   }
  }
 },
 "nbformat": 4,
 "nbformat_minor": 2
}
