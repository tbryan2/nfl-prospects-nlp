{
 "cells": [
  {
   "cell_type": "code",
   "execution_count": 1,
   "metadata": {},
   "outputs": [],
   "source": [
    "# Dependencies\n",
    "import pandas as pd\n",
    "from splinter import Browser\n",
    "from bs4 import BeautifulSoup as bs\n",
    "from webdriver_manager.chrome import ChromeDriverManager\n",
    "import requests\n",
    "import time"
   ]
  },
  {
   "cell_type": "code",
   "execution_count": 2,
   "metadata": {},
   "outputs": [
    {
     "name": "stdout",
     "output_type": "stream",
     "text": [
      "\n"
     ]
    }
   ],
   "source": [
    "# Set up Splinter\n",
    "executable_path = {'executable_path': ChromeDriverManager().install()}\n",
    "browser = Browser('chrome', **executable_path, headless=False)"
   ]
  },
  {
   "cell_type": "code",
   "execution_count": 3,
   "metadata": {},
   "outputs": [],
   "source": [
    "# Define the url for NFL prospects website\n",
    "url = 'https://www.nfl.com/draft/tracker/prospects/'"
   ]
  },
  {
   "cell_type": "code",
   "execution_count": 6,
   "metadata": {},
   "outputs": [],
   "source": [
    "# Click on each player's name to get to their individual page, grab the text that's in player bio\n",
    "browser.visit(url)\n",
    "time.sleep(1)\n",
    "html = browser.html\n",
    "soup = bs(html, 'html.parser')\n",
    "\n",
    "# Create a list of links to player pages with just the links\n",
    "player_links = soup.find_all('a', class_='css-1mchkr3')\n",
    "\n",
    "# Take the links and grab just the href attribute\n",
    "player_urls = []\n",
    "for player in player_links:\n",
    "    player_urls.append(player['href'])\n",
    "\n",
    "# Create a list of player names\n",
    "player_names = []\n",
    "for player in player_links:\n",
    "    player_names.append(player.text)\n",
    "    \n",
    "\n",
    "# Click on each player's name to get to their individual page, grab the text that's in player bio\n",
    "player_bio = []\n",
    "for player in player_urls:\n",
    "    browser.visit(player)\n",
    "    time.sleep(1)\n",
    "    html = browser.html\n",
    "    soup = bs(html, 'html.parser')\n",
    "    player_bio.append(soup.find('div', class_='player-bio').text)\n"
   ]
  },
  {
   "cell_type": "code",
   "execution_count": 7,
   "metadata": {},
   "outputs": [
    {
     "data": {
      "text/plain": [
       "['https://www.nfl.com/prospects/kyle-hamilton/32004841-4d24-6970-5c23-1fbf7506b4a0',\n",
       " 'https://www.nfl.com/prospects/aidan-hutchinson/32004855-5409-9869-e552-bb07ce41f012',\n",
       " 'https://www.nfl.com/prospects/evan-neal/32004e45-4116-2928-ef52-cc385312d2f6',\n",
       " 'https://www.nfl.com/prospects/ikem-ekwonu/3200454b-5741-5291-c575-71e78a1d7951',\n",
       " 'https://www.nfl.com/prospects/sauce-gardner/32004741-5215-2629-6c74-87ce99a3689f',\n",
       " 'https://www.nfl.com/prospects/kayvon-thibodeaux/32005448-4917-2866-684f-218d97d743dd',\n",
       " 'https://www.nfl.com/prospects/tyler-linderbaum/32004c49-4e17-7976-f831-6fbe52def617',\n",
       " 'https://www.nfl.com/prospects/trent-mcduffie/32004d43-4482-4296-793c-79be74c0e9fd',\n",
       " 'https://www.nfl.com/prospects/treylon-burks/32004255-5232-1327-f36e-987913d19348',\n",
       " 'https://www.nfl.com/prospects/jordan-davis/32004441-5648-7265-ac02-99b487d4f3e4',\n",
       " 'https://www.nfl.com/prospects/derek-stingley-jr/32005354-4960-1420-a38e-b73a2b4cd5a6',\n",
       " 'https://www.nfl.com/prospects/garrett-wilson/32005749-4c69-1962-4085-d9c826d8709c',\n",
       " 'https://www.nfl.com/prospects/jermaine-johnson-ii/32004a4f-4878-9955-894a-a70b7162607a',\n",
       " 'https://www.nfl.com/prospects/travon-walker/32005741-4c33-5860-fba3-6bbb26e956a0',\n",
       " 'https://www.nfl.com/prospects/jameson-williams/32005749-4c34-4909-bc5e-bde59d1a8826',\n",
       " 'https://www.nfl.com/prospects/kenyon-green/32004752-4529-8290-1f10-faef00b12bc2',\n",
       " 'https://www.nfl.com/prospects/charles-cross/32004352-4f39-8747-10cd-e041e76a72ff',\n",
       " 'https://www.nfl.com/prospects/chris-olave/32004f4c-4165-9325-c259-01a521202e2f',\n",
       " 'https://www.nfl.com/prospects/malik-willis/32005749-4c61-4428-8345-922a57c28423',\n",
       " 'https://www.nfl.com/prospects/matt-corral/3200434f-5264-4234-3a2e-d0d8c1f80e47']"
      ]
     },
     "execution_count": 7,
     "metadata": {},
     "output_type": "execute_result"
    }
   ],
   "source": [
    "player_urls"
   ]
  },
  {
   "cell_type": "code",
   "execution_count": null,
   "metadata": {},
   "outputs": [],
   "source": []
  }
 ],
 "metadata": {
  "kernelspec": {
   "display_name": "base",
   "language": "python",
   "name": "python3"
  },
  "language_info": {
   "codemirror_mode": {
    "name": "ipython",
    "version": 3
   },
   "file_extension": ".py",
   "mimetype": "text/x-python",
   "name": "python",
   "nbconvert_exporter": "python",
   "pygments_lexer": "ipython3",
   "version": "3.9.7 (default, Sep 16 2021, 08:50:36) \n[Clang 10.0.0 ]"
  },
  "orig_nbformat": 4,
  "vscode": {
   "interpreter": {
    "hash": "838e51ec53c769d56e1cc4cb363682f0a508bbcae9a91bec1df886143b87e50b"
   }
  }
 },
 "nbformat": 4,
 "nbformat_minor": 2
}
