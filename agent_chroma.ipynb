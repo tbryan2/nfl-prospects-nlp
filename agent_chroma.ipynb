{
 "cells": [
  {
   "cell_type": "code",
   "execution_count": 27,
   "metadata": {},
   "outputs": [],
   "source": [
    "# Dependencies\n",
    "import pandas as pd\n",
    "import os\n",
    "\n",
    "from langchain.embeddings.openai import OpenAIEmbeddings\n",
    "from langchain.text_splitter import CharacterTextSplitter\n",
    "from langchain.vectorstores import Chroma\n",
    "from langchain.document_loaders import DataFrameLoader\n",
    "from langchain.llms import OpenAI\n",
    "from langchain.chains.question_answering import load_qa_chain\n",
    "from langchain.chains import VectorDBQA\n",
    "\n",
    "import chromadb\n",
    "\n",
    "# Create environment variable for OpenAI API key\n",
    "from config import openai_api_key\n",
    "os.environ['OPENAI_API_KEY'] = openai_api_key\n"
   ]
  },
  {
   "attachments": {},
   "cell_type": "markdown",
   "metadata": {},
   "source": [
    "POPULATE THE CHROMA DATABASE OUTSIDE THE FUNCTION,\n",
    "USE SIMILARITY SEARCH WITH METADTA INSIDE THE FUNCTION"
   ]
  },
  {
   "cell_type": "code",
   "execution_count": 2,
   "metadata": {},
   "outputs": [
    {
     "name": "stderr",
     "output_type": "stream",
     "text": [
      "Using embedded DuckDB without persistence: data will be transient\n"
     ]
    }
   ],
   "source": [
    "chroma_client = chromadb.Client()"
   ]
  },
  {
   "cell_type": "code",
   "execution_count": 3,
   "metadata": {},
   "outputs": [
    {
     "name": "stderr",
     "output_type": "stream",
     "text": [
      "No embedding_function provided, using default embedding function: SentenceTransformerEmbeddingFunction\n"
     ]
    }
   ],
   "source": [
    "# Create a Chroma collection\n",
    "collection = chroma_client.create_collection(name=\"nfl-prospects-1\")"
   ]
  },
  {
   "cell_type": "code",
   "execution_count": 4,
   "metadata": {},
   "outputs": [],
   "source": [
    "# Define the data\n",
    "data = pd.read_csv('data/dataset.csv')"
   ]
  },
  {
   "cell_type": "code",
   "execution_count": 5,
   "metadata": {},
   "outputs": [],
   "source": [
    "# Create the loader specify the column containing the text\n",
    "loader = DataFrameLoader(data, page_content_column=\"Player Bio\")"
   ]
  },
  {
   "cell_type": "code",
   "execution_count": 6,
   "metadata": {},
   "outputs": [],
   "source": [
    "# Load the data\n",
    "docs = loader.load()"
   ]
  },
  {
   "cell_type": "code",
   "execution_count": 7,
   "metadata": {},
   "outputs": [],
   "source": [
    "# Define the embeddings\n",
    "embeddings = OpenAIEmbeddings()"
   ]
  },
  {
   "cell_type": "code",
   "execution_count": 8,
   "metadata": {},
   "outputs": [
    {
     "name": "stderr",
     "output_type": "stream",
     "text": [
      "Using embedded DuckDB with persistence: data will be stored in: db\n"
     ]
    }
   ],
   "source": [
    "persist_directory = 'db'\n",
    "\n",
    "embedding = OpenAIEmbeddings()\n",
    "vectordb = Chroma.from_documents(\n",
    "    documents=docs, embedding=embedding, persist_directory=persist_directory)"
   ]
  },
  {
   "cell_type": "code",
   "execution_count": 9,
   "metadata": {},
   "outputs": [],
   "source": [
    "vectordb.persist()\n",
    "vectordb = None"
   ]
  },
  {
   "cell_type": "code",
   "execution_count": 10,
   "metadata": {},
   "outputs": [
    {
     "name": "stderr",
     "output_type": "stream",
     "text": [
      "Using embedded DuckDB with persistence: data will be stored in: db\n"
     ]
    }
   ],
   "source": [
    "# Now we can load the persisted database from disk, and use it as normal.\n",
    "vectordb = Chroma(persist_directory=persist_directory,\n",
    "                  embedding_function=embedding)"
   ]
  },
  {
   "cell_type": "code",
   "execution_count": 60,
   "metadata": {},
   "outputs": [],
   "source": [
    "llm = OpenAI(temperature=0.7)\n",
    "chain = load_qa_chain(llm, chain_type=\"stuff\")"
   ]
  },
  {
   "cell_type": "code",
   "execution_count": 69,
   "metadata": {},
   "outputs": [],
   "source": [
    "query = \"Who are your top 3 WR prospects in 2023, explain why?\""
   ]
  },
  {
   "cell_type": "code",
   "execution_count": 70,
   "metadata": {},
   "outputs": [],
   "source": [
    "docsearch = vectordb.similarity_search(query, include_metadata=True, k=3)"
   ]
  },
  {
   "cell_type": "code",
   "execution_count": 71,
   "metadata": {},
   "outputs": [
    {
     "data": {
      "text/plain": [
       "\" I don't know.\""
      ]
     },
     "execution_count": 71,
     "metadata": {},
     "output_type": "execute_result"
    }
   ],
   "source": [
    "chain.run(input_documents=docsearch, question=query)\n"
   ]
  },
  {
   "cell_type": "code",
   "execution_count": 72,
   "metadata": {},
   "outputs": [
    {
     "data": {
      "text/plain": [
       "[Document(page_content='Polished, quarterback-friendly, sure-handed possession receiver with a flare for the highlight-reel catch. Could be an effective No. 3 option, capable of lining up as a \"Z\" or slot, working short-to-intermediate and beating zone coverage.', metadata={'Player': 'Jarvis Landry', 'Player Grades': 6.1, 'Draft Class': 2014, 'Link': 'https://www.nfl.com/prospects/jarvis-landry/32004c41-4e16-3029-78da-4985470f8aab'}),\n",
       " Document(page_content='Athletic, smooth-moving, polished receiver who runs crisp routes, has terrific hands and boasts NFL bloodlines. Balanced skill set, dependability and versatility will be valued at the next level, where he could be a productive No. 2 or No. 3 receiver in a sophisticated passing system. Arrow pointing up.', metadata={'Player': 'T.J. Jones', 'Player Grades': 5.9, 'Draft Class': 2014, 'Link': 'https://www.nfl.com/prospects/t-j-jones/32004a4f-4e73-1255-22f2-c41bfb1a40f3'}),\n",
       " Document(page_content=\"Traits-based prospect with outstanding combination of size, speed, and explosiveness to make a team, but lacking in the fundamentals to contribute early on. Smith should be able to improve his route-work quickly, but improving ball skills and instincts will be a more difficult challenge for whoever takes him on the third day of the draft. Smith's traits could lead him to a role of field-stretcher with underneath routes to complement that role. He's a better athlete than receiver at this point and could take a couple of years to develop.\", metadata={'Player': 'Vyncint Smith', 'Player Grades': 5.8, 'Draft Class': 2018, 'Link': 'https://www.nfl.com/prospects/vyncint-smith/3200534d-4978-1011-ecc9-47e1c07540e5'})]"
      ]
     },
     "execution_count": 72,
     "metadata": {},
     "output_type": "execute_result"
    }
   ],
   "source": [
    "docsearch"
   ]
  },
  {
   "cell_type": "code",
   "execution_count": null,
   "metadata": {},
   "outputs": [],
   "source": []
  }
 ],
 "metadata": {
  "kernelspec": {
   "display_name": "chroma",
   "language": "python",
   "name": "chroma"
  },
  "language_info": {
   "codemirror_mode": {
    "name": "ipython",
    "version": 3
   },
   "file_extension": ".py",
   "mimetype": "text/x-python",
   "name": "python",
   "nbconvert_exporter": "python",
   "pygments_lexer": "ipython3",
   "version": "3.8.3"
  },
  "orig_nbformat": 4
 },
 "nbformat": 4,
 "nbformat_minor": 2
}
