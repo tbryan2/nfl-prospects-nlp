{
 "cells": [
  {
   "cell_type": "code",
   "execution_count": 1,
   "metadata": {},
   "outputs": [],
   "source": [
    "import pandas as pd\n",
    "from langchain.agents import create_pandas_dataframe_agent\n",
    "from langchain.llms import OpenAI\n",
    "from config import openai_api_key\n",
    "import os\n",
    "import nfl_data_py as nfl"
   ]
  },
  {
   "cell_type": "code",
   "execution_count": 2,
   "metadata": {},
   "outputs": [],
   "source": [
    "df = pd.read_csv('data/player_bios.csv')"
   ]
  },
  {
   "cell_type": "code",
   "execution_count": 3,
   "metadata": {},
   "outputs": [],
   "source": [
    "os.environ['OPENAI_API_KEY'] = openai_api_key"
   ]
  },
  {
   "cell_type": "code",
   "execution_count": 4,
   "metadata": {},
   "outputs": [],
   "source": [
    "# Create DataFrame of the top 100 prospects by grade\n",
    "df = df.sort_values('Player Grades', ascending=False).head(100)"
   ]
  },
  {
   "cell_type": "code",
   "execution_count": 5,
   "metadata": {},
   "outputs": [],
   "source": [
    "nfl_df = nfl.import_seasonal_data([2022])"
   ]
  },
  {
   "cell_type": "code",
   "execution_count": 7,
   "metadata": {},
   "outputs": [
    {
     "data": {
      "text/plain": [
       "Index(['player_id', 'season', 'season_type', 'player_name',\n",
       "       'player_display_name', 'position', 'position_group', 'headshot_url',\n",
       "       'completions', 'attempts', 'passing_yards', 'passing_tds',\n",
       "       'interceptions', 'sacks', 'sack_yards', 'sack_fumbles',\n",
       "       'sack_fumbles_lost', 'passing_air_yards', 'passing_yards_after_catch',\n",
       "       'passing_first_downs', 'passing_epa', 'passing_2pt_conversions', 'pacr',\n",
       "       'dakota', 'carries', 'rushing_yards', 'rushing_tds', 'rushing_fumbles',\n",
       "       'rushing_fumbles_lost', 'rushing_first_downs', 'rushing_epa',\n",
       "       'rushing_2pt_conversions', 'receptions', 'targets', 'receiving_yards',\n",
       "       'receiving_tds', 'receiving_fumbles', 'receiving_fumbles_lost',\n",
       "       'receiving_air_yards', 'receiving_yards_after_catch',\n",
       "       'receiving_first_downs', 'receiving_epa', 'receiving_2pt_conversions',\n",
       "       'racr', 'target_share', 'air_yards_share', 'wopr_x',\n",
       "       'special_teams_tds', 'fantasy_points', 'fantasy_points_ppr', 'games',\n",
       "       'tgt_sh', 'ay_sh', 'yac_sh', 'wopr_y', 'ry_sh', 'rtd_sh', 'rfd_sh',\n",
       "       'rtdfd_sh', 'dom', 'w8dom', 'yptmpa', 'ppr_sh'],\n",
       "      dtype='object')"
      ]
     },
     "execution_count": 7,
     "metadata": {},
     "output_type": "execute_result"
    }
   ],
   "source": [
    "nfl_df.columns"
   ]
  },
  {
   "cell_type": "code",
   "execution_count": 6,
   "metadata": {},
   "outputs": [
    {
     "data": {
      "text/plain": [
       "player_name\n",
       "T.BradyT.BradyT.BradyT.BradyT.BradyT.BradyT.BradyT.BradyT.BradyT.BradyT.BradyT.BradyT.BradyT.BradyT.BradyT.BradyT.Brady                         1\n",
       "D.DuvernayD.DuvernayD.DuvernayD.DuvernayD.DuvernayD.DuvernayD.DuvernayD.DuvernayD.DuvernayD.DuvernayD.DuvernayD.DuvernayD.DuvernayD.Duvernay    1\n",
       "D.EvansD.EvansD.Evans                                                                                                                           1\n",
       "D.MooneyD.MooneyD.MooneyD.MooneyD.MooneyD.MooneyD.MooneyD.MooneyD.MooneyD.MooneyD.Mooney                                                        1\n",
       "B.MannB.Mann                                                                                                                                    1\n",
       "                                                                                                                                               ..\n",
       "M.DicksonM.Dickson                                                                                                                              1\n",
       "J.CabindaJ.CabindaJ.CabindaJ.Cabinda                                                                                                            1\n",
       "T.Boyle                                                                                                                                         1\n",
       "G.EdwardsG.EdwardsG.EdwardsG.EdwardsG.EdwardsG.EdwardsG.EdwardsG.EdwardsG.Edwards                                                               1\n",
       "J.Ali                                                                                                                                           1\n",
       "Name: count, Length: 619, dtype: int64"
      ]
     },
     "execution_count": 6,
     "metadata": {},
     "output_type": "execute_result"
    }
   ],
   "source": [
    "# value count of player names\n",
    "nfl_df['player_name'].value_counts()"
   ]
  },
  {
   "cell_type": "code",
   "execution_count": null,
   "metadata": {},
   "outputs": [],
   "source": []
  },
  {
   "cell_type": "code",
   "execution_count": null,
   "metadata": {},
   "outputs": [],
   "source": []
  },
  {
   "cell_type": "code",
   "execution_count": 15,
   "metadata": {},
   "outputs": [],
   "source": [
    "agent = create_pandas_dataframe_agent(OpenAI(temperature=0.9), df)"
   ]
  },
  {
   "cell_type": "code",
   "execution_count": 13,
   "metadata": {},
   "outputs": [
    {
     "data": {
      "text/html": [
       "<div>\n",
       "<style scoped>\n",
       "    .dataframe tbody tr th:only-of-type {\n",
       "        vertical-align: middle;\n",
       "    }\n",
       "\n",
       "    .dataframe tbody tr th {\n",
       "        vertical-align: top;\n",
       "    }\n",
       "\n",
       "    .dataframe thead th {\n",
       "        text-align: right;\n",
       "    }\n",
       "</style>\n",
       "<table border=\"1\" class=\"dataframe\">\n",
       "  <thead>\n",
       "    <tr style=\"text-align: right;\">\n",
       "      <th></th>\n",
       "      <th>Player</th>\n",
       "      <th>Player Bio</th>\n",
       "      <th>Player Grades</th>\n",
       "      <th>Link</th>\n",
       "      <th>Player Category</th>\n",
       "    </tr>\n",
       "  </thead>\n",
       "  <tbody>\n",
       "    <tr>\n",
       "      <th>0</th>\n",
       "      <td>Jadeveon Clowney</td>\n",
       "      <td>A physical specimen with a rare size-speed com...</td>\n",
       "      <td>7.50</td>\n",
       "      <td>https://www.nfl.com/prospects/jadeveon-clowney...</td>\n",
       "      <td>Perennial All-Pro</td>\n",
       "    </tr>\n",
       "    <tr>\n",
       "      <th>812</th>\n",
       "      <td>Myles Jack</td>\n",
       "      <td>One of the most versatile players in college f...</td>\n",
       "      <td>7.50</td>\n",
       "      <td>https://www.nfl.com/prospects/myles-jack/32004...</td>\n",
       "      <td>Perennial All-Pro</td>\n",
       "    </tr>\n",
       "    <tr>\n",
       "      <th>1187</th>\n",
       "      <td>Myles Garrett</td>\n",
       "      <td>The Dallas area Defensive Player of the Year a...</td>\n",
       "      <td>7.50</td>\n",
       "      <td>https://www.nfl.com/prospects/myles-garrett/32...</td>\n",
       "      <td>Perennial All-Pro</td>\n",
       "    </tr>\n",
       "    <tr>\n",
       "      <th>813</th>\n",
       "      <td>Laremy Tunsil</td>\n",
       "      <td>The 2015 season was difficult for Tunsil. Firs...</td>\n",
       "      <td>7.50</td>\n",
       "      <td>https://www.nfl.com/prospects/laremy-tunsil/32...</td>\n",
       "      <td>Perennial All-Pro</td>\n",
       "    </tr>\n",
       "    <tr>\n",
       "      <th>1571</th>\n",
       "      <td>Saquon Barkley</td>\n",
       "      <td>Barkley has gained notoriety for not only his ...</td>\n",
       "      <td>7.45</td>\n",
       "      <td>https://www.nfl.com/prospects/saquon-barkley/3...</td>\n",
       "      <td>Perennial All-Pro</td>\n",
       "    </tr>\n",
       "  </tbody>\n",
       "</table>\n",
       "</div>"
      ],
      "text/plain": [
       "                Player                                         Player Bio   \n",
       "0     Jadeveon Clowney  A physical specimen with a rare size-speed com...  \\\n",
       "812         Myles Jack  One of the most versatile players in college f...   \n",
       "1187     Myles Garrett  The Dallas area Defensive Player of the Year a...   \n",
       "813      Laremy Tunsil  The 2015 season was difficult for Tunsil. Firs...   \n",
       "1571    Saquon Barkley  Barkley has gained notoriety for not only his ...   \n",
       "\n",
       "      Player Grades                                               Link   \n",
       "0              7.50  https://www.nfl.com/prospects/jadeveon-clowney...  \\\n",
       "812            7.50  https://www.nfl.com/prospects/myles-jack/32004...   \n",
       "1187           7.50  https://www.nfl.com/prospects/myles-garrett/32...   \n",
       "813            7.50  https://www.nfl.com/prospects/laremy-tunsil/32...   \n",
       "1571           7.45  https://www.nfl.com/prospects/saquon-barkley/3...   \n",
       "\n",
       "        Player Category  \n",
       "0     Perennial All-Pro  \n",
       "812   Perennial All-Pro  \n",
       "1187  Perennial All-Pro  \n",
       "813   Perennial All-Pro  \n",
       "1571  Perennial All-Pro  "
      ]
     },
     "execution_count": 13,
     "metadata": {},
     "output_type": "execute_result"
    }
   ],
   "source": [
    "df.head()"
   ]
  },
  {
   "cell_type": "code",
   "execution_count": 16,
   "metadata": {},
   "outputs": [
    {
     "data": {
      "text/plain": [
       "\"I would rather have Jadeveon Clowney because he has a higher grade of 7.5 compared to Khalil Mack's grade of 7.0.\""
      ]
     },
     "execution_count": 16,
     "metadata": {},
     "output_type": "execute_result"
    }
   ],
   "source": [
    "agent.run(\"Would you rather have Jadeveon Clowney or Khalil Mack?\")\n"
   ]
  },
  {
   "cell_type": "code",
   "execution_count": null,
   "metadata": {},
   "outputs": [],
   "source": []
  }
 ],
 "metadata": {
  "kernelspec": {
   "display_name": "Python 3",
   "language": "python",
   "name": "python3"
  },
  "language_info": {
   "codemirror_mode": {
    "name": "ipython",
    "version": 3
   },
   "file_extension": ".py",
   "mimetype": "text/x-python",
   "name": "python",
   "nbconvert_exporter": "python",
   "pygments_lexer": "ipython3",
   "version": "3.9.2"
  },
  "orig_nbformat": 4
 },
 "nbformat": 4,
 "nbformat_minor": 2
}
